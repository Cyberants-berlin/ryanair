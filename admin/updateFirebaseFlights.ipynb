{
 "cells": [
  {
   "cell_type": "code",
   "execution_count": 67,
   "metadata": {},
   "outputs": [],
   "source": [
    "from ryanair import Ryanair\n",
    "from datetime import datetime, timedelta\n",
    "from ryanair import Ryanair\n",
    "from ryanair.types import Flight\n",
    "import pprint\n",
    "from tqdm import tqdm\n",
    "from datetime import datetime, timedelta\n",
    "from termcolor import colored\n",
    "import json\n",
    "import firebase_admin\n",
    "from  firebase_admin  import  credentials,  firestore\n"
   ]
  },
  {
   "cell_type": "markdown",
   "metadata": {},
   "source": [
    "# Initalivierung \n",
    "- Erstmal import \n",
    "- dann eine Client instnz initialisiern "
   ]
  },
  {
   "cell_type": "code",
   "execution_count": 6,
   "metadata": {},
   "outputs": [],
   "source": [
    "api = Ryanair(\"EUR\")\n"
   ]
  },
  {
   "cell_type": "code",
   "execution_count": 40,
   "metadata": {},
   "outputs": [],
   "source": [
    "allDestinationAirports = [\"BLQ\", \"BRI\", \"BRU\", \"BUD\", \"CFU\", \"CTA\", \"DUB\", \"EDI\", \"EMA\", \"LPA\", \"LUX\", \"MAD\", \"MAN\", \"MRS\", \"OPO\", \"OTP\", \"PMI\", \"PMO\", \"RAK\", \"SKG\", \"SOF\", \"TGD\", \"TLL\", \"TLV\", \"VCE\", \"VLC\", \"VNO\"]\n",
    "departureAirport = \"BER\""
   ]
  },
  {
   "cell_type": "code",
   "execution_count": 25,
   "metadata": {},
   "outputs": [],
   "source": [
    "#TODO Get a list of all Fidays and Saturdays in the next 6 months, and a seperate list for sunday dates ,\n",
    "#  so that we can iterate over them and get the available flights for each of friday to sunday dates or saturday to sunday dates\n",
    "\n",
    "        \n"
   ]
  },
  {
   "cell_type": "code",
   "execution_count": 54,
   "metadata": {},
   "outputs": [],
   "source": [
    "\n",
    "\n",
    "def generate_weekend_trips(start_date):\n",
    "    weekend_trips = []\n",
    "    end_date = start_date + timedelta(days=180)  # 6 months from the start date\n",
    "\n",
    "    current_date = start_date\n",
    "    while current_date <= end_date:\n",
    "        if current_date.weekday() == 4:  # Check if the current day is Friday\n",
    "            saturday = current_date + timedelta(days=1)\n",
    "            sunday = current_date + timedelta(days=2)\n",
    "            \n",
    "            if sunday <= end_date:  # Ensure Sunday is within the 6 month period\n",
    "                weekend = {\n",
    "                    \"friday\": current_date.strftime(\"%Y-%m-%d\"),\n",
    "                    \"saturday\": saturday.strftime(\"%Y-%m-%d\"),\n",
    "                    \"sunday\": sunday.strftime(\"%Y-%m-%d\")\n",
    "                }\n",
    "                weekend_trips.append(weekend)\n",
    "        \n",
    "        current_date += timedelta(days=1)\n",
    "\n",
    "    return weekend_trips\n"
   ]
  },
  {
   "cell_type": "code",
   "execution_count": 55,
   "metadata": {},
   "outputs": [],
   "source": [
    "# Generate weekend trips\n",
    "today = datetime.now().date()\n",
    "weekend_trip_combinations = generate_weekend_trips(today)"
   ]
  },
  {
   "cell_type": "code",
   "execution_count": 56,
   "metadata": {},
   "outputs": [
    {
     "name": "stdout",
     "output_type": "stream",
     "text": [
      "{'friday': '2024-03-01', 'saturday': '2024-03-02', 'sunday': '2024-03-03'}\n"
     ]
    }
   ],
   "source": [
    "print(weekend_trip_combinations[0])"
   ]
  },
  {
   "cell_type": "code",
   "execution_count": 50,
   "metadata": {},
   "outputs": [
    {
     "data": {
      "text/plain": [
       "675"
      ]
     },
     "execution_count": 50,
     "metadata": {},
     "output_type": "execute_result"
    }
   ],
   "source": [
    "len(weekend_trip_combinations)*len(allDestinationAirports)"
   ]
  },
  {
   "cell_type": "code",
   "execution_count": 35,
   "metadata": {},
   "outputs": [],
   "source": [
    "class Flight:\n",
    "    def __init__(self, departureTime, flightNumber, price, currency, origin, originFull, destination, destinationFull):\n",
    "        self.departureTime = departureTime\n",
    "        self.flightNumber = flightNumber\n",
    "        self.price = price\n",
    "        self.currency = currency\n",
    "        self.origin = origin\n",
    "        self.originFull = originFull\n",
    "        self.destination = destination\n",
    "        self.destinationFull = destinationFull\n",
    "\n",
    "class Trip:\n",
    "    def __init__(self, totalPrice, outbound, inbound):\n",
    "        self.totalPrice = totalPrice\n",
    "        self.outbound = outbound\n",
    "        self.inbound = inbound\n"
   ]
  },
  {
   "cell_type": "code",
   "execution_count": 61,
   "metadata": {},
   "outputs": [],
   "source": [
    "def flight_to_dict(flight):\n",
    "    return {\n",
    "        \"departureTime\": flight.departureTime.isoformat(),\n",
    "        \"flightNumber\": flight.flightNumber,\n",
    "        \"price\": flight.price,\n",
    "        \"currency\": flight.currency,\n",
    "        \"origin\": flight.origin,\n",
    "        \"originFull\": flight.originFull,\n",
    "        \"destination\": flight.destination,\n",
    "        \"destinationFull\": flight.destinationFull\n",
    "    }\n",
    "\n",
    "# Convert Trip object to JSON serializable dictionary\n",
    "def trip_to_dict(trip):\n",
    "    return {\n",
    "        \"totalPrice\": trip.outbound.price + trip.inbound.price ,\n",
    "        \"outbound\": flight_to_dict(trip.outbound),\n",
    "        \"inbound\": flight_to_dict(trip.inbound)\n",
    "    }\n",
    "\n",
    "# Function to get and store flight data\n",
    "def get_and_store_flight_data(weekend_trip_combinations, allDestinationAirports):\n",
    "    results = {}\n",
    "    for destination in tqdm(allDestinationAirports, desc=\"Checking destinations\"):\n",
    "        destination_results = []\n",
    "        for weekend in tqdm(weekend_trip_combinations, desc=f\"Flights to {destination}\", leave=False):\n",
    "            # Mock API call - replace with your actual API call\n",
    "            trips = api.get_cheapest_return_flights(source_airport=departureAirport, date_from=weekend[\"friday\"], date_to=weekend[\"saturday\"], return_date_from=weekend['saturday'], return_date_to=weekend['sunday'], destination_airport=destination)\n",
    "\n",
    "            # Handle both single trip object and list of trips\n",
    "            if not isinstance(trips, list):\n",
    "                trips = [trips]  # Convert single trip object to a list for uniform processing\n",
    "\n",
    "            for trip in trips:\n",
    "                # Print results with colored output\n",
    "                destination_str = colored(destination, 'yellow')\n",
    "                departure_str = colored(f\"Departure: {weekend['friday']}\", 'cyan')\n",
    "                return_str = colored(f\"Return: {weekend['sunday']}\", 'magenta')\n",
    "                result_str = f\"Weekend Trip from {departureAirport} to {destination_str}: {departure_str}, {return_str}\"\n",
    "                print(result_str)\n",
    "\n",
    "                # Convert the trip object to a JSON serializable format and store it\n",
    "                destination_results.append(trip_to_dict(trip))\n",
    "\n",
    "        results[destination] = destination_results\n",
    "\n",
    "    # Save the results to a JSON file\n",
    "    with open('flights_data.json', 'w') as file:\n",
    "        json.dump(results, file, indent=4)\n",
    "\n",
    "    return results\n"
   ]
  },
  {
   "cell_type": "code",
   "execution_count": null,
   "metadata": {},
   "outputs": [],
   "source": []
  },
  {
   "cell_type": "code",
   "execution_count": 63,
   "metadata": {},
   "outputs": [
    {
     "name": "stderr",
     "output_type": "stream",
     "text": [
      "Checking destinations:   0%|          | 0/27 [00:00<?, ?it/s]"
     ]
    },
    {
     "name": "stdout",
     "output_type": "stream",
     "text": [
      "Weekend Trip from BER to \u001b[33mBLQ\u001b[0m: \u001b[36mDeparture: 2024-03-01\u001b[0m, \u001b[35mReturn: 2024-03-03\u001b[0m\n",
      "Weekend Trip from BER to \u001b[33mBLQ\u001b[0m: \u001b[36mDeparture: 2024-03-08\u001b[0m, \u001b[35mReturn: 2024-03-10\u001b[0m\n",
      "Weekend Trip from BER to \u001b[33mBLQ\u001b[0m: \u001b[36mDeparture: 2024-03-15\u001b[0m, \u001b[35mReturn: 2024-03-17\u001b[0m\n"
     ]
    },
    {
     "name": "stderr",
     "output_type": "stream",
     "text": []
    },
    {
     "name": "stdout",
     "output_type": "stream",
     "text": [
      "Weekend Trip from BER to \u001b[33mBLQ\u001b[0m: \u001b[36mDeparture: 2024-03-22\u001b[0m, \u001b[35mReturn: 2024-03-24\u001b[0m\n",
      "Weekend Trip from BER to \u001b[33mBLQ\u001b[0m: \u001b[36mDeparture: 2024-03-29\u001b[0m, \u001b[35mReturn: 2024-03-31\u001b[0m\n",
      "Weekend Trip from BER to \u001b[33mBLQ\u001b[0m: \u001b[36mDeparture: 2024-04-05\u001b[0m, \u001b[35mReturn: 2024-04-07\u001b[0m\n"
     ]
    },
    {
     "name": "stderr",
     "output_type": "stream",
     "text": []
    },
    {
     "name": "stdout",
     "output_type": "stream",
     "text": [
      "Weekend Trip from BER to \u001b[33mBLQ\u001b[0m: \u001b[36mDeparture: 2024-04-12\u001b[0m, \u001b[35mReturn: 2024-04-14\u001b[0m\n",
      "Weekend Trip from BER to \u001b[33mBLQ\u001b[0m: \u001b[36mDeparture: 2024-04-19\u001b[0m, \u001b[35mReturn: 2024-04-21\u001b[0m\n",
      "Weekend Trip from BER to \u001b[33mBLQ\u001b[0m: \u001b[36mDeparture: 2024-04-26\u001b[0m, \u001b[35mReturn: 2024-04-28\u001b[0m\n"
     ]
    },
    {
     "name": "stderr",
     "output_type": "stream",
     "text": []
    },
    {
     "name": "stdout",
     "output_type": "stream",
     "text": [
      "Weekend Trip from BER to \u001b[33mBLQ\u001b[0m: \u001b[36mDeparture: 2024-05-03\u001b[0m, \u001b[35mReturn: 2024-05-05\u001b[0m\n",
      "Weekend Trip from BER to \u001b[33mBLQ\u001b[0m: \u001b[36mDeparture: 2024-05-10\u001b[0m, \u001b[35mReturn: 2024-05-12\u001b[0m\n",
      "Weekend Trip from BER to \u001b[33mBLQ\u001b[0m: \u001b[36mDeparture: 2024-05-17\u001b[0m, \u001b[35mReturn: 2024-05-19\u001b[0m\n"
     ]
    },
    {
     "name": "stderr",
     "output_type": "stream",
     "text": []
    },
    {
     "name": "stdout",
     "output_type": "stream",
     "text": [
      "Weekend Trip from BER to \u001b[33mBLQ\u001b[0m: \u001b[36mDeparture: 2024-05-24\u001b[0m, \u001b[35mReturn: 2024-05-26\u001b[0m\n",
      "Weekend Trip from BER to \u001b[33mBLQ\u001b[0m: \u001b[36mDeparture: 2024-05-31\u001b[0m, \u001b[35mReturn: 2024-06-02\u001b[0m\n"
     ]
    },
    {
     "name": "stderr",
     "output_type": "stream",
     "text": []
    },
    {
     "name": "stdout",
     "output_type": "stream",
     "text": [
      "Weekend Trip from BER to \u001b[33mBLQ\u001b[0m: \u001b[36mDeparture: 2024-06-07\u001b[0m, \u001b[35mReturn: 2024-06-09\u001b[0m\n",
      "Weekend Trip from BER to \u001b[33mBLQ\u001b[0m: \u001b[36mDeparture: 2024-06-14\u001b[0m, \u001b[35mReturn: 2024-06-16\u001b[0m\n",
      "Weekend Trip from BER to \u001b[33mBLQ\u001b[0m: \u001b[36mDeparture: 2024-06-21\u001b[0m, \u001b[35mReturn: 2024-06-23\u001b[0m\n"
     ]
    },
    {
     "name": "stderr",
     "output_type": "stream",
     "text": []
    },
    {
     "name": "stdout",
     "output_type": "stream",
     "text": [
      "Weekend Trip from BER to \u001b[33mBLQ\u001b[0m: \u001b[36mDeparture: 2024-06-28\u001b[0m, \u001b[35mReturn: 2024-06-30\u001b[0m\n",
      "Weekend Trip from BER to \u001b[33mBLQ\u001b[0m: \u001b[36mDeparture: 2024-07-05\u001b[0m, \u001b[35mReturn: 2024-07-07\u001b[0m\n"
     ]
    },
    {
     "name": "stderr",
     "output_type": "stream",
     "text": []
    },
    {
     "name": "stdout",
     "output_type": "stream",
     "text": [
      "Weekend Trip from BER to \u001b[33mBLQ\u001b[0m: \u001b[36mDeparture: 2024-07-12\u001b[0m, \u001b[35mReturn: 2024-07-14\u001b[0m\n",
      "Weekend Trip from BER to \u001b[33mBLQ\u001b[0m: \u001b[36mDeparture: 2024-07-19\u001b[0m, \u001b[35mReturn: 2024-07-21\u001b[0m\n",
      "Weekend Trip from BER to \u001b[33mBLQ\u001b[0m: \u001b[36mDeparture: 2024-07-26\u001b[0m, \u001b[35mReturn: 2024-07-28\u001b[0m\n"
     ]
    },
    {
     "name": "stderr",
     "output_type": "stream",
     "text": []
    },
    {
     "name": "stdout",
     "output_type": "stream",
     "text": [
      "Weekend Trip from BER to \u001b[33mBLQ\u001b[0m: \u001b[36mDeparture: 2024-08-02\u001b[0m, \u001b[35mReturn: 2024-08-04\u001b[0m\n",
      "Weekend Trip from BER to \u001b[33mBLQ\u001b[0m: \u001b[36mDeparture: 2024-08-09\u001b[0m, \u001b[35mReturn: 2024-08-11\u001b[0m\n"
     ]
    },
    {
     "name": "stderr",
     "output_type": "stream",
     "text": [
      "Checking destinations:   4%|▎         | 1/27 [00:02<01:00,  2.34s/it]"
     ]
    },
    {
     "name": "stdout",
     "output_type": "stream",
     "text": [
      "Weekend Trip from BER to \u001b[33mBLQ\u001b[0m: \u001b[36mDeparture: 2024-08-16\u001b[0m, \u001b[35mReturn: 2024-08-18\u001b[0m\n"
     ]
    },
    {
     "name": "stderr",
     "output_type": "stream",
     "text": []
    },
    {
     "name": "stdout",
     "output_type": "stream",
     "text": [
      "Weekend Trip from BER to \u001b[33mBRI\u001b[0m: \u001b[36mDeparture: 2024-03-01\u001b[0m, \u001b[35mReturn: 2024-03-03\u001b[0m\n",
      "Weekend Trip from BER to \u001b[33mBRI\u001b[0m: \u001b[36mDeparture: 2024-03-08\u001b[0m, \u001b[35mReturn: 2024-03-10\u001b[0m\n",
      "Weekend Trip from BER to \u001b[33mBRI\u001b[0m: \u001b[36mDeparture: 2024-03-15\u001b[0m, \u001b[35mReturn: 2024-03-17\u001b[0m\n"
     ]
    },
    {
     "name": "stderr",
     "output_type": "stream",
     "text": []
    },
    {
     "name": "stdout",
     "output_type": "stream",
     "text": [
      "Weekend Trip from BER to \u001b[33mBRI\u001b[0m: \u001b[36mDeparture: 2024-03-22\u001b[0m, \u001b[35mReturn: 2024-03-24\u001b[0m\n"
     ]
    },
    {
     "name": "stderr",
     "output_type": "stream",
     "text": [
      "Checking destinations:   7%|▋         | 2/27 [00:04<00:56,  2.26s/it]"
     ]
    },
    {
     "name": "stdout",
     "output_type": "stream",
     "text": [
      "Weekend Trip from BER to \u001b[33mBRU\u001b[0m: \u001b[36mDeparture: 2024-03-01\u001b[0m, \u001b[35mReturn: 2024-03-03\u001b[0m\n",
      "Weekend Trip from BER to \u001b[33mBRU\u001b[0m: \u001b[36mDeparture: 2024-03-08\u001b[0m, \u001b[35mReturn: 2024-03-10\u001b[0m\n",
      "Weekend Trip from BER to \u001b[33mBRU\u001b[0m: \u001b[36mDeparture: 2024-03-15\u001b[0m, \u001b[35mReturn: 2024-03-17\u001b[0m\n",
      "Weekend Trip from BER to \u001b[33mBRU\u001b[0m: \u001b[36mDeparture: 2024-03-22\u001b[0m, \u001b[35mReturn: 2024-03-24\u001b[0m\n"
     ]
    },
    {
     "name": "stderr",
     "output_type": "stream",
     "text": []
    },
    {
     "name": "stdout",
     "output_type": "stream",
     "text": [
      "Weekend Trip from BER to \u001b[33mBRU\u001b[0m: \u001b[36mDeparture: 2024-03-29\u001b[0m, \u001b[35mReturn: 2024-03-31\u001b[0m\n",
      "Weekend Trip from BER to \u001b[33mBRU\u001b[0m: \u001b[36mDeparture: 2024-04-05\u001b[0m, \u001b[35mReturn: 2024-04-07\u001b[0m\n",
      "Weekend Trip from BER to \u001b[33mBRU\u001b[0m: \u001b[36mDeparture: 2024-04-12\u001b[0m, \u001b[35mReturn: 2024-04-14\u001b[0m\n"
     ]
    },
    {
     "name": "stderr",
     "output_type": "stream",
     "text": []
    },
    {
     "name": "stdout",
     "output_type": "stream",
     "text": [
      "Weekend Trip from BER to \u001b[33mBRU\u001b[0m: \u001b[36mDeparture: 2024-04-19\u001b[0m, \u001b[35mReturn: 2024-04-21\u001b[0m\n",
      "Weekend Trip from BER to \u001b[33mBRU\u001b[0m: \u001b[36mDeparture: 2024-04-26\u001b[0m, \u001b[35mReturn: 2024-04-28\u001b[0m\n",
      "Weekend Trip from BER to \u001b[33mBRU\u001b[0m: \u001b[36mDeparture: 2024-05-03\u001b[0m, \u001b[35mReturn: 2024-05-05\u001b[0m\n"
     ]
    },
    {
     "name": "stderr",
     "output_type": "stream",
     "text": []
    },
    {
     "name": "stdout",
     "output_type": "stream",
     "text": [
      "Weekend Trip from BER to \u001b[33mBRU\u001b[0m: \u001b[36mDeparture: 2024-05-10\u001b[0m, \u001b[35mReturn: 2024-05-12\u001b[0m\n",
      "Weekend Trip from BER to \u001b[33mBRU\u001b[0m: \u001b[36mDeparture: 2024-05-17\u001b[0m, \u001b[35mReturn: 2024-05-19\u001b[0m\n",
      "Weekend Trip from BER to \u001b[33mBRU\u001b[0m: \u001b[36mDeparture: 2024-05-24\u001b[0m, \u001b[35mReturn: 2024-05-26\u001b[0m\n"
     ]
    },
    {
     "name": "stderr",
     "output_type": "stream",
     "text": []
    },
    {
     "name": "stdout",
     "output_type": "stream",
     "text": [
      "Weekend Trip from BER to \u001b[33mBRU\u001b[0m: \u001b[36mDeparture: 2024-05-31\u001b[0m, \u001b[35mReturn: 2024-06-02\u001b[0m\n",
      "Weekend Trip from BER to \u001b[33mBRU\u001b[0m: \u001b[36mDeparture: 2024-06-07\u001b[0m, \u001b[35mReturn: 2024-06-09\u001b[0m\n",
      "Weekend Trip from BER to \u001b[33mBRU\u001b[0m: \u001b[36mDeparture: 2024-06-14\u001b[0m, \u001b[35mReturn: 2024-06-16\u001b[0m\n"
     ]
    },
    {
     "name": "stderr",
     "output_type": "stream",
     "text": []
    },
    {
     "name": "stdout",
     "output_type": "stream",
     "text": [
      "Weekend Trip from BER to \u001b[33mBRU\u001b[0m: \u001b[36mDeparture: 2024-06-21\u001b[0m, \u001b[35mReturn: 2024-06-23\u001b[0m\n",
      "Weekend Trip from BER to \u001b[33mBRU\u001b[0m: \u001b[36mDeparture: 2024-06-28\u001b[0m, \u001b[35mReturn: 2024-06-30\u001b[0m\n",
      "Weekend Trip from BER to \u001b[33mBRU\u001b[0m: \u001b[36mDeparture: 2024-07-05\u001b[0m, \u001b[35mReturn: 2024-07-07\u001b[0m\n"
     ]
    },
    {
     "name": "stderr",
     "output_type": "stream",
     "text": []
    },
    {
     "name": "stdout",
     "output_type": "stream",
     "text": [
      "Weekend Trip from BER to \u001b[33mBRU\u001b[0m: \u001b[36mDeparture: 2024-07-12\u001b[0m, \u001b[35mReturn: 2024-07-14\u001b[0m\n",
      "Weekend Trip from BER to \u001b[33mBRU\u001b[0m: \u001b[36mDeparture: 2024-07-19\u001b[0m, \u001b[35mReturn: 2024-07-21\u001b[0m\n",
      "Weekend Trip from BER to \u001b[33mBRU\u001b[0m: \u001b[36mDeparture: 2024-07-26\u001b[0m, \u001b[35mReturn: 2024-07-28\u001b[0m\n"
     ]
    },
    {
     "name": "stderr",
     "output_type": "stream",
     "text": []
    },
    {
     "name": "stdout",
     "output_type": "stream",
     "text": [
      "Weekend Trip from BER to \u001b[33mBRU\u001b[0m: \u001b[36mDeparture: 2024-08-02\u001b[0m, \u001b[35mReturn: 2024-08-04\u001b[0m\n"
     ]
    },
    {
     "name": "stderr",
     "output_type": "stream",
     "text": [
      "Checking destinations:  11%|█         | 3/27 [00:06<00:53,  2.23s/it]"
     ]
    },
    {
     "name": "stdout",
     "output_type": "stream",
     "text": [
      "Weekend Trip from BER to \u001b[33mBRU\u001b[0m: \u001b[36mDeparture: 2024-08-09\u001b[0m, \u001b[35mReturn: 2024-08-11\u001b[0m\n",
      "Weekend Trip from BER to \u001b[33mBRU\u001b[0m: \u001b[36mDeparture: 2024-08-16\u001b[0m, \u001b[35mReturn: 2024-08-18\u001b[0m\n"
     ]
    },
    {
     "name": "stderr",
     "output_type": "stream",
     "text": []
    },
    {
     "name": "stdout",
     "output_type": "stream",
     "text": [
      "Weekend Trip from BER to \u001b[33mBUD\u001b[0m: \u001b[36mDeparture: 2024-03-01\u001b[0m, \u001b[35mReturn: 2024-03-03\u001b[0m\n",
      "Weekend Trip from BER to \u001b[33mBUD\u001b[0m: \u001b[36mDeparture: 2024-03-08\u001b[0m, \u001b[35mReturn: 2024-03-10\u001b[0m\n"
     ]
    },
    {
     "name": "stderr",
     "output_type": "stream",
     "text": []
    },
    {
     "name": "stdout",
     "output_type": "stream",
     "text": [
      "Weekend Trip from BER to \u001b[33mBUD\u001b[0m: \u001b[36mDeparture: 2024-03-15\u001b[0m, \u001b[35mReturn: 2024-03-17\u001b[0m\n",
      "Weekend Trip from BER to \u001b[33mBUD\u001b[0m: \u001b[36mDeparture: 2024-03-22\u001b[0m, \u001b[35mReturn: 2024-03-24\u001b[0m\n",
      "Weekend Trip from BER to \u001b[33mBUD\u001b[0m: \u001b[36mDeparture: 2024-03-29\u001b[0m, \u001b[35mReturn: 2024-03-31\u001b[0m\n"
     ]
    },
    {
     "name": "stderr",
     "output_type": "stream",
     "text": []
    },
    {
     "name": "stdout",
     "output_type": "stream",
     "text": [
      "Weekend Trip from BER to \u001b[33mBUD\u001b[0m: \u001b[36mDeparture: 2024-04-05\u001b[0m, \u001b[35mReturn: 2024-04-07\u001b[0m\n"
     ]
    },
    {
     "name": "stderr",
     "output_type": "stream",
     "text": []
    },
    {
     "name": "stdout",
     "output_type": "stream",
     "text": [
      "Weekend Trip from BER to \u001b[33mBUD\u001b[0m: \u001b[36mDeparture: 2024-04-12\u001b[0m, \u001b[35mReturn: 2024-04-14\u001b[0m\n",
      "Weekend Trip from BER to \u001b[33mBUD\u001b[0m: \u001b[36mDeparture: 2024-04-19\u001b[0m, \u001b[35mReturn: 2024-04-21\u001b[0m\n",
      "Weekend Trip from BER to \u001b[33mBUD\u001b[0m: \u001b[36mDeparture: 2024-04-26\u001b[0m, \u001b[35mReturn: 2024-04-28\u001b[0m\n"
     ]
    },
    {
     "name": "stderr",
     "output_type": "stream",
     "text": []
    },
    {
     "name": "stdout",
     "output_type": "stream",
     "text": [
      "Weekend Trip from BER to \u001b[33mBUD\u001b[0m: \u001b[36mDeparture: 2024-05-03\u001b[0m, \u001b[35mReturn: 2024-05-05\u001b[0m\n",
      "Weekend Trip from BER to \u001b[33mBUD\u001b[0m: \u001b[36mDeparture: 2024-05-10\u001b[0m, \u001b[35mReturn: 2024-05-12\u001b[0m\n"
     ]
    },
    {
     "name": "stderr",
     "output_type": "stream",
     "text": []
    },
    {
     "name": "stdout",
     "output_type": "stream",
     "text": [
      "Weekend Trip from BER to \u001b[33mBUD\u001b[0m: \u001b[36mDeparture: 2024-05-17\u001b[0m, \u001b[35mReturn: 2024-05-19\u001b[0m\n",
      "Weekend Trip from BER to \u001b[33mBUD\u001b[0m: \u001b[36mDeparture: 2024-05-24\u001b[0m, \u001b[35mReturn: 2024-05-26\u001b[0m\n"
     ]
    },
    {
     "name": "stderr",
     "output_type": "stream",
     "text": []
    },
    {
     "name": "stdout",
     "output_type": "stream",
     "text": [
      "Weekend Trip from BER to \u001b[33mBUD\u001b[0m: \u001b[36mDeparture: 2024-05-31\u001b[0m, \u001b[35mReturn: 2024-06-02\u001b[0m\n"
     ]
    },
    {
     "name": "stderr",
     "output_type": "stream",
     "text": []
    },
    {
     "name": "stdout",
     "output_type": "stream",
     "text": [
      "Weekend Trip from BER to \u001b[33mBUD\u001b[0m: \u001b[36mDeparture: 2024-06-07\u001b[0m, \u001b[35mReturn: 2024-06-09\u001b[0m\n",
      "Weekend Trip from BER to \u001b[33mBUD\u001b[0m: \u001b[36mDeparture: 2024-06-14\u001b[0m, \u001b[35mReturn: 2024-06-16\u001b[0m\n",
      "Weekend Trip from BER to \u001b[33mBUD\u001b[0m: \u001b[36mDeparture: 2024-06-21\u001b[0m, \u001b[35mReturn: 2024-06-23\u001b[0m\n"
     ]
    },
    {
     "name": "stderr",
     "output_type": "stream",
     "text": []
    },
    {
     "name": "stdout",
     "output_type": "stream",
     "text": [
      "Weekend Trip from BER to \u001b[33mBUD\u001b[0m: \u001b[36mDeparture: 2024-06-28\u001b[0m, \u001b[35mReturn: 2024-06-30\u001b[0m\n",
      "Weekend Trip from BER to \u001b[33mBUD\u001b[0m: \u001b[36mDeparture: 2024-07-05\u001b[0m, \u001b[35mReturn: 2024-07-07\u001b[0m\n"
     ]
    },
    {
     "name": "stderr",
     "output_type": "stream",
     "text": []
    },
    {
     "name": "stdout",
     "output_type": "stream",
     "text": [
      "Weekend Trip from BER to \u001b[33mBUD\u001b[0m: \u001b[36mDeparture: 2024-07-12\u001b[0m, \u001b[35mReturn: 2024-07-14\u001b[0m\n",
      "Weekend Trip from BER to \u001b[33mBUD\u001b[0m: \u001b[36mDeparture: 2024-07-19\u001b[0m, \u001b[35mReturn: 2024-07-21\u001b[0m\n"
     ]
    },
    {
     "name": "stderr",
     "output_type": "stream",
     "text": []
    },
    {
     "name": "stdout",
     "output_type": "stream",
     "text": [
      "Weekend Trip from BER to \u001b[33mBUD\u001b[0m: \u001b[36mDeparture: 2024-07-26\u001b[0m, \u001b[35mReturn: 2024-07-28\u001b[0m\n",
      "Weekend Trip from BER to \u001b[33mBUD\u001b[0m: \u001b[36mDeparture: 2024-08-02\u001b[0m, \u001b[35mReturn: 2024-08-04\u001b[0m\n"
     ]
    },
    {
     "name": "stderr",
     "output_type": "stream",
     "text": []
    },
    {
     "name": "stdout",
     "output_type": "stream",
     "text": [
      "Weekend Trip from BER to \u001b[33mBUD\u001b[0m: \u001b[36mDeparture: 2024-08-09\u001b[0m, \u001b[35mReturn: 2024-08-11\u001b[0m\n"
     ]
    },
    {
     "name": "stderr",
     "output_type": "stream",
     "text": [
      "Checking destinations:  15%|█▍        | 4/27 [00:08<00:50,  2.18s/it]"
     ]
    },
    {
     "name": "stdout",
     "output_type": "stream",
     "text": [
      "Weekend Trip from BER to \u001b[33mBUD\u001b[0m: \u001b[36mDeparture: 2024-08-16\u001b[0m, \u001b[35mReturn: 2024-08-18\u001b[0m\n"
     ]
    },
    {
     "name": "stderr",
     "output_type": "stream",
     "text": []
    },
    {
     "name": "stdout",
     "output_type": "stream",
     "text": [
      "Weekend Trip from BER to \u001b[33mCFU\u001b[0m: \u001b[36mDeparture: 2024-03-08\u001b[0m, \u001b[35mReturn: 2024-03-10\u001b[0m\n",
      "Weekend Trip from BER to \u001b[33mCFU\u001b[0m: \u001b[36mDeparture: 2024-03-15\u001b[0m, \u001b[35mReturn: 2024-03-17\u001b[0m\n",
      "Weekend Trip from BER to \u001b[33mCFU\u001b[0m: \u001b[36mDeparture: 2024-03-22\u001b[0m, \u001b[35mReturn: 2024-03-24\u001b[0m\n"
     ]
    },
    {
     "name": "stderr",
     "output_type": "stream",
     "text": []
    },
    {
     "name": "stdout",
     "output_type": "stream",
     "text": [
      "Weekend Trip from BER to \u001b[33mCFU\u001b[0m: \u001b[36mDeparture: 2024-03-29\u001b[0m, \u001b[35mReturn: 2024-03-31\u001b[0m\n"
     ]
    },
    {
     "name": "stderr",
     "output_type": "stream",
     "text": [
      "Checking destinations:  19%|█▊        | 5/27 [00:12<01:03,  2.87s/it]"
     ]
    },
    {
     "name": "stdout",
     "output_type": "stream",
     "text": [
      "Weekend Trip from BER to \u001b[33mCTA\u001b[0m: \u001b[36mDeparture: 2024-03-01\u001b[0m, \u001b[35mReturn: 2024-03-03\u001b[0m\n"
     ]
    },
    {
     "name": "stderr",
     "output_type": "stream",
     "text": []
    },
    {
     "name": "stdout",
     "output_type": "stream",
     "text": [
      "Weekend Trip from BER to \u001b[33mCTA\u001b[0m: \u001b[36mDeparture: 2024-03-08\u001b[0m, \u001b[35mReturn: 2024-03-10\u001b[0m\n",
      "Weekend Trip from BER to \u001b[33mCTA\u001b[0m: \u001b[36mDeparture: 2024-03-15\u001b[0m, \u001b[35mReturn: 2024-03-17\u001b[0m\n"
     ]
    },
    {
     "name": "stderr",
     "output_type": "stream",
     "text": []
    },
    {
     "name": "stdout",
     "output_type": "stream",
     "text": [
      "Weekend Trip from BER to \u001b[33mCTA\u001b[0m: \u001b[36mDeparture: 2024-03-29\u001b[0m, \u001b[35mReturn: 2024-03-31\u001b[0m\n",
      "Weekend Trip from BER to \u001b[33mCTA\u001b[0m: \u001b[36mDeparture: 2024-04-05\u001b[0m, \u001b[35mReturn: 2024-04-07\u001b[0m\n",
      "Weekend Trip from BER to \u001b[33mCTA\u001b[0m: \u001b[36mDeparture: 2024-04-12\u001b[0m, \u001b[35mReturn: 2024-04-14\u001b[0m\n"
     ]
    },
    {
     "name": "stderr",
     "output_type": "stream",
     "text": []
    },
    {
     "name": "stdout",
     "output_type": "stream",
     "text": [
      "Weekend Trip from BER to \u001b[33mCTA\u001b[0m: \u001b[36mDeparture: 2024-04-19\u001b[0m, \u001b[35mReturn: 2024-04-21\u001b[0m\n",
      "Weekend Trip from BER to \u001b[33mCTA\u001b[0m: \u001b[36mDeparture: 2024-04-26\u001b[0m, \u001b[35mReturn: 2024-04-28\u001b[0m\n"
     ]
    },
    {
     "name": "stderr",
     "output_type": "stream",
     "text": []
    },
    {
     "name": "stdout",
     "output_type": "stream",
     "text": [
      "Weekend Trip from BER to \u001b[33mCTA\u001b[0m: \u001b[36mDeparture: 2024-05-03\u001b[0m, \u001b[35mReturn: 2024-05-05\u001b[0m\n",
      "Weekend Trip from BER to \u001b[33mCTA\u001b[0m: \u001b[36mDeparture: 2024-05-10\u001b[0m, \u001b[35mReturn: 2024-05-12\u001b[0m\n",
      "Weekend Trip from BER to \u001b[33mCTA\u001b[0m: \u001b[36mDeparture: 2024-05-17\u001b[0m, \u001b[35mReturn: 2024-05-19\u001b[0m\n"
     ]
    },
    {
     "name": "stderr",
     "output_type": "stream",
     "text": []
    },
    {
     "name": "stdout",
     "output_type": "stream",
     "text": [
      "Weekend Trip from BER to \u001b[33mCTA\u001b[0m: \u001b[36mDeparture: 2024-05-24\u001b[0m, \u001b[35mReturn: 2024-05-26\u001b[0m\n",
      "Weekend Trip from BER to \u001b[33mCTA\u001b[0m: \u001b[36mDeparture: 2024-05-31\u001b[0m, \u001b[35mReturn: 2024-06-02\u001b[0m\n"
     ]
    },
    {
     "name": "stderr",
     "output_type": "stream",
     "text": []
    },
    {
     "name": "stdout",
     "output_type": "stream",
     "text": [
      "Weekend Trip from BER to \u001b[33mCTA\u001b[0m: \u001b[36mDeparture: 2024-06-07\u001b[0m, \u001b[35mReturn: 2024-06-09\u001b[0m\n",
      "Weekend Trip from BER to \u001b[33mCTA\u001b[0m: \u001b[36mDeparture: 2024-06-14\u001b[0m, \u001b[35mReturn: 2024-06-16\u001b[0m\n"
     ]
    },
    {
     "name": "stderr",
     "output_type": "stream",
     "text": []
    },
    {
     "name": "stdout",
     "output_type": "stream",
     "text": [
      "Weekend Trip from BER to \u001b[33mCTA\u001b[0m: \u001b[36mDeparture: 2024-06-21\u001b[0m, \u001b[35mReturn: 2024-06-23\u001b[0m\n",
      "Weekend Trip from BER to \u001b[33mCTA\u001b[0m: \u001b[36mDeparture: 2024-06-28\u001b[0m, \u001b[35mReturn: 2024-06-30\u001b[0m\n"
     ]
    },
    {
     "name": "stderr",
     "output_type": "stream",
     "text": []
    },
    {
     "name": "stdout",
     "output_type": "stream",
     "text": [
      "Weekend Trip from BER to \u001b[33mCTA\u001b[0m: \u001b[36mDeparture: 2024-07-05\u001b[0m, \u001b[35mReturn: 2024-07-07\u001b[0m\n",
      "Weekend Trip from BER to \u001b[33mCTA\u001b[0m: \u001b[36mDeparture: 2024-07-12\u001b[0m, \u001b[35mReturn: 2024-07-14\u001b[0m\n",
      "Weekend Trip from BER to \u001b[33mCTA\u001b[0m: \u001b[36mDeparture: 2024-07-19\u001b[0m, \u001b[35mReturn: 2024-07-21\u001b[0m\n"
     ]
    },
    {
     "name": "stderr",
     "output_type": "stream",
     "text": []
    },
    {
     "name": "stdout",
     "output_type": "stream",
     "text": [
      "Weekend Trip from BER to \u001b[33mCTA\u001b[0m: \u001b[36mDeparture: 2024-07-26\u001b[0m, \u001b[35mReturn: 2024-07-28\u001b[0m\n",
      "Weekend Trip from BER to \u001b[33mCTA\u001b[0m: \u001b[36mDeparture: 2024-08-02\u001b[0m, \u001b[35mReturn: 2024-08-04\u001b[0m\n",
      "Weekend Trip from BER to \u001b[33mCTA\u001b[0m: \u001b[36mDeparture: 2024-08-09\u001b[0m, \u001b[35mReturn: 2024-08-11\u001b[0m\n"
     ]
    },
    {
     "name": "stderr",
     "output_type": "stream",
     "text": [
      "Checking destinations:  22%|██▏       | 6/27 [00:16<01:03,  3.05s/it]"
     ]
    },
    {
     "name": "stdout",
     "output_type": "stream",
     "text": [
      "Weekend Trip from BER to \u001b[33mCTA\u001b[0m: \u001b[36mDeparture: 2024-08-16\u001b[0m, \u001b[35mReturn: 2024-08-18\u001b[0m\n"
     ]
    },
    {
     "name": "stderr",
     "output_type": "stream",
     "text": []
    },
    {
     "name": "stdout",
     "output_type": "stream",
     "text": [
      "Weekend Trip from BER to \u001b[33mDUB\u001b[0m: \u001b[36mDeparture: 2024-03-01\u001b[0m, \u001b[35mReturn: 2024-03-03\u001b[0m\n",
      "Weekend Trip from BER to \u001b[33mDUB\u001b[0m: \u001b[36mDeparture: 2024-03-08\u001b[0m, \u001b[35mReturn: 2024-03-10\u001b[0m\n",
      "Weekend Trip from BER to \u001b[33mDUB\u001b[0m: \u001b[36mDeparture: 2024-03-15\u001b[0m, \u001b[35mReturn: 2024-03-17\u001b[0m\n"
     ]
    },
    {
     "name": "stderr",
     "output_type": "stream",
     "text": []
    },
    {
     "name": "stdout",
     "output_type": "stream",
     "text": [
      "Weekend Trip from BER to \u001b[33mDUB\u001b[0m: \u001b[36mDeparture: 2024-03-22\u001b[0m, \u001b[35mReturn: 2024-03-24\u001b[0m\n"
     ]
    },
    {
     "name": "stderr",
     "output_type": "stream",
     "text": []
    },
    {
     "name": "stdout",
     "output_type": "stream",
     "text": [
      "Weekend Trip from BER to \u001b[33mDUB\u001b[0m: \u001b[36mDeparture: 2024-03-29\u001b[0m, \u001b[35mReturn: 2024-03-31\u001b[0m\n",
      "Weekend Trip from BER to \u001b[33mDUB\u001b[0m: \u001b[36mDeparture: 2024-04-05\u001b[0m, \u001b[35mReturn: 2024-04-07\u001b[0m\n"
     ]
    },
    {
     "name": "stderr",
     "output_type": "stream",
     "text": []
    },
    {
     "name": "stdout",
     "output_type": "stream",
     "text": [
      "Weekend Trip from BER to \u001b[33mDUB\u001b[0m: \u001b[36mDeparture: 2024-04-12\u001b[0m, \u001b[35mReturn: 2024-04-14\u001b[0m\n"
     ]
    },
    {
     "name": "stderr",
     "output_type": "stream",
     "text": []
    },
    {
     "name": "stdout",
     "output_type": "stream",
     "text": [
      "Weekend Trip from BER to \u001b[33mDUB\u001b[0m: \u001b[36mDeparture: 2024-04-19\u001b[0m, \u001b[35mReturn: 2024-04-21\u001b[0m\n",
      "Weekend Trip from BER to \u001b[33mDUB\u001b[0m: \u001b[36mDeparture: 2024-04-26\u001b[0m, \u001b[35mReturn: 2024-04-28\u001b[0m\n"
     ]
    },
    {
     "name": "stderr",
     "output_type": "stream",
     "text": []
    },
    {
     "name": "stdout",
     "output_type": "stream",
     "text": [
      "Weekend Trip from BER to \u001b[33mDUB\u001b[0m: \u001b[36mDeparture: 2024-05-03\u001b[0m, \u001b[35mReturn: 2024-05-05\u001b[0m\n"
     ]
    },
    {
     "name": "stderr",
     "output_type": "stream",
     "text": []
    },
    {
     "name": "stdout",
     "output_type": "stream",
     "text": [
      "Weekend Trip from BER to \u001b[33mDUB\u001b[0m: \u001b[36mDeparture: 2024-05-10\u001b[0m, \u001b[35mReturn: 2024-05-12\u001b[0m\n"
     ]
    },
    {
     "name": "stderr",
     "output_type": "stream",
     "text": []
    },
    {
     "name": "stdout",
     "output_type": "stream",
     "text": [
      "Weekend Trip from BER to \u001b[33mDUB\u001b[0m: \u001b[36mDeparture: 2024-05-17\u001b[0m, \u001b[35mReturn: 2024-05-19\u001b[0m\n"
     ]
    },
    {
     "name": "stderr",
     "output_type": "stream",
     "text": []
    },
    {
     "name": "stdout",
     "output_type": "stream",
     "text": [
      "Weekend Trip from BER to \u001b[33mDUB\u001b[0m: \u001b[36mDeparture: 2024-05-24\u001b[0m, \u001b[35mReturn: 2024-05-26\u001b[0m\n",
      "Weekend Trip from BER to \u001b[33mDUB\u001b[0m: \u001b[36mDeparture: 2024-05-31\u001b[0m, \u001b[35mReturn: 2024-06-02\u001b[0m\n"
     ]
    },
    {
     "name": "stderr",
     "output_type": "stream",
     "text": []
    },
    {
     "name": "stdout",
     "output_type": "stream",
     "text": [
      "Weekend Trip from BER to \u001b[33mDUB\u001b[0m: \u001b[36mDeparture: 2024-06-07\u001b[0m, \u001b[35mReturn: 2024-06-09\u001b[0m\n"
     ]
    },
    {
     "name": "stderr",
     "output_type": "stream",
     "text": []
    },
    {
     "name": "stdout",
     "output_type": "stream",
     "text": [
      "Weekend Trip from BER to \u001b[33mDUB\u001b[0m: \u001b[36mDeparture: 2024-06-14\u001b[0m, \u001b[35mReturn: 2024-06-16\u001b[0m\n",
      "Weekend Trip from BER to \u001b[33mDUB\u001b[0m: \u001b[36mDeparture: 2024-06-21\u001b[0m, \u001b[35mReturn: 2024-06-23\u001b[0m\n",
      "Weekend Trip from BER to \u001b[33mDUB\u001b[0m: \u001b[36mDeparture: 2024-06-28\u001b[0m, \u001b[35mReturn: 2024-06-30\u001b[0m\n"
     ]
    },
    {
     "name": "stderr",
     "output_type": "stream",
     "text": []
    },
    {
     "name": "stdout",
     "output_type": "stream",
     "text": [
      "Weekend Trip from BER to \u001b[33mDUB\u001b[0m: \u001b[36mDeparture: 2024-07-05\u001b[0m, \u001b[35mReturn: 2024-07-07\u001b[0m\n",
      "Weekend Trip from BER to \u001b[33mDUB\u001b[0m: \u001b[36mDeparture: 2024-07-12\u001b[0m, \u001b[35mReturn: 2024-07-14\u001b[0m\n",
      "Weekend Trip from BER to \u001b[33mDUB\u001b[0m: \u001b[36mDeparture: 2024-07-19\u001b[0m, \u001b[35mReturn: 2024-07-21\u001b[0m\n"
     ]
    },
    {
     "name": "stderr",
     "output_type": "stream",
     "text": []
    },
    {
     "name": "stdout",
     "output_type": "stream",
     "text": [
      "Weekend Trip from BER to \u001b[33mDUB\u001b[0m: \u001b[36mDeparture: 2024-07-26\u001b[0m, \u001b[35mReturn: 2024-07-28\u001b[0m\n",
      "Weekend Trip from BER to \u001b[33mDUB\u001b[0m: \u001b[36mDeparture: 2024-08-02\u001b[0m, \u001b[35mReturn: 2024-08-04\u001b[0m\n",
      "Weekend Trip from BER to \u001b[33mDUB\u001b[0m: \u001b[36mDeparture: 2024-08-09\u001b[0m, \u001b[35mReturn: 2024-08-11\u001b[0m\n"
     ]
    },
    {
     "name": "stderr",
     "output_type": "stream",
     "text": [
      "Checking destinations:  26%|██▌       | 7/27 [00:21<01:12,  3.60s/it]"
     ]
    },
    {
     "name": "stdout",
     "output_type": "stream",
     "text": [
      "Weekend Trip from BER to \u001b[33mDUB\u001b[0m: \u001b[36mDeparture: 2024-08-16\u001b[0m, \u001b[35mReturn: 2024-08-18\u001b[0m\n"
     ]
    },
    {
     "name": "stderr",
     "output_type": "stream",
     "text": []
    },
    {
     "name": "stdout",
     "output_type": "stream",
     "text": [
      "Weekend Trip from BER to \u001b[33mEDI\u001b[0m: \u001b[36mDeparture: 2024-03-01\u001b[0m, \u001b[35mReturn: 2024-03-03\u001b[0m\n",
      "Weekend Trip from BER to \u001b[33mEDI\u001b[0m: \u001b[36mDeparture: 2024-03-08\u001b[0m, \u001b[35mReturn: 2024-03-10\u001b[0m\n",
      "Weekend Trip from BER to \u001b[33mEDI\u001b[0m: \u001b[36mDeparture: 2024-03-15\u001b[0m, \u001b[35mReturn: 2024-03-17\u001b[0m\n"
     ]
    },
    {
     "name": "stderr",
     "output_type": "stream",
     "text": []
    },
    {
     "name": "stdout",
     "output_type": "stream",
     "text": [
      "Weekend Trip from BER to \u001b[33mEDI\u001b[0m: \u001b[36mDeparture: 2024-03-22\u001b[0m, \u001b[35mReturn: 2024-03-24\u001b[0m\n",
      "Weekend Trip from BER to \u001b[33mEDI\u001b[0m: \u001b[36mDeparture: 2024-03-29\u001b[0m, \u001b[35mReturn: 2024-03-31\u001b[0m\n",
      "Weekend Trip from BER to \u001b[33mEDI\u001b[0m: \u001b[36mDeparture: 2024-04-05\u001b[0m, \u001b[35mReturn: 2024-04-07\u001b[0m\n"
     ]
    },
    {
     "name": "stderr",
     "output_type": "stream",
     "text": []
    },
    {
     "name": "stdout",
     "output_type": "stream",
     "text": [
      "Weekend Trip from BER to \u001b[33mEDI\u001b[0m: \u001b[36mDeparture: 2024-04-12\u001b[0m, \u001b[35mReturn: 2024-04-14\u001b[0m\n",
      "Weekend Trip from BER to \u001b[33mEDI\u001b[0m: \u001b[36mDeparture: 2024-04-19\u001b[0m, \u001b[35mReturn: 2024-04-21\u001b[0m\n"
     ]
    },
    {
     "name": "stderr",
     "output_type": "stream",
     "text": []
    },
    {
     "name": "stdout",
     "output_type": "stream",
     "text": [
      "Weekend Trip from BER to \u001b[33mEDI\u001b[0m: \u001b[36mDeparture: 2024-04-26\u001b[0m, \u001b[35mReturn: 2024-04-28\u001b[0m\n",
      "Weekend Trip from BER to \u001b[33mEDI\u001b[0m: \u001b[36mDeparture: 2024-05-03\u001b[0m, \u001b[35mReturn: 2024-05-05\u001b[0m\n",
      "Weekend Trip from BER to \u001b[33mEDI\u001b[0m: \u001b[36mDeparture: 2024-05-10\u001b[0m, \u001b[35mReturn: 2024-05-12\u001b[0m\n"
     ]
    },
    {
     "name": "stderr",
     "output_type": "stream",
     "text": []
    },
    {
     "name": "stdout",
     "output_type": "stream",
     "text": [
      "Weekend Trip from BER to \u001b[33mEDI\u001b[0m: \u001b[36mDeparture: 2024-05-17\u001b[0m, \u001b[35mReturn: 2024-05-19\u001b[0m\n",
      "Weekend Trip from BER to \u001b[33mEDI\u001b[0m: \u001b[36mDeparture: 2024-05-24\u001b[0m, \u001b[35mReturn: 2024-05-26\u001b[0m\n"
     ]
    },
    {
     "name": "stderr",
     "output_type": "stream",
     "text": []
    },
    {
     "name": "stdout",
     "output_type": "stream",
     "text": [
      "Weekend Trip from BER to \u001b[33mEDI\u001b[0m: \u001b[36mDeparture: 2024-05-31\u001b[0m, \u001b[35mReturn: 2024-06-02\u001b[0m\n"
     ]
    },
    {
     "name": "stderr",
     "output_type": "stream",
     "text": []
    },
    {
     "name": "stdout",
     "output_type": "stream",
     "text": [
      "Weekend Trip from BER to \u001b[33mEDI\u001b[0m: \u001b[36mDeparture: 2024-06-07\u001b[0m, \u001b[35mReturn: 2024-06-09\u001b[0m\n",
      "Weekend Trip from BER to \u001b[33mEDI\u001b[0m: \u001b[36mDeparture: 2024-06-14\u001b[0m, \u001b[35mReturn: 2024-06-16\u001b[0m\n",
      "Weekend Trip from BER to \u001b[33mEDI\u001b[0m: \u001b[36mDeparture: 2024-06-21\u001b[0m, \u001b[35mReturn: 2024-06-23\u001b[0m\n"
     ]
    },
    {
     "name": "stderr",
     "output_type": "stream",
     "text": []
    },
    {
     "name": "stdout",
     "output_type": "stream",
     "text": [
      "Weekend Trip from BER to \u001b[33mEDI\u001b[0m: \u001b[36mDeparture: 2024-06-28\u001b[0m, \u001b[35mReturn: 2024-06-30\u001b[0m\n",
      "Weekend Trip from BER to \u001b[33mEDI\u001b[0m: \u001b[36mDeparture: 2024-07-05\u001b[0m, \u001b[35mReturn: 2024-07-07\u001b[0m\n",
      "Weekend Trip from BER to \u001b[33mEDI\u001b[0m: \u001b[36mDeparture: 2024-07-12\u001b[0m, \u001b[35mReturn: 2024-07-14\u001b[0m\n"
     ]
    },
    {
     "name": "stderr",
     "output_type": "stream",
     "text": []
    },
    {
     "name": "stdout",
     "output_type": "stream",
     "text": [
      "Weekend Trip from BER to \u001b[33mEDI\u001b[0m: \u001b[36mDeparture: 2024-07-19\u001b[0m, \u001b[35mReturn: 2024-07-21\u001b[0m\n",
      "Weekend Trip from BER to \u001b[33mEDI\u001b[0m: \u001b[36mDeparture: 2024-07-26\u001b[0m, \u001b[35mReturn: 2024-07-28\u001b[0m\n",
      "Weekend Trip from BER to \u001b[33mEDI\u001b[0m: \u001b[36mDeparture: 2024-08-02\u001b[0m, \u001b[35mReturn: 2024-08-04\u001b[0m\n"
     ]
    },
    {
     "name": "stderr",
     "output_type": "stream",
     "text": [
      "Checking destinations:  30%|██▉       | 8/27 [00:23<01:01,  3.24s/it]"
     ]
    },
    {
     "name": "stdout",
     "output_type": "stream",
     "text": [
      "Weekend Trip from BER to \u001b[33mEDI\u001b[0m: \u001b[36mDeparture: 2024-08-09\u001b[0m, \u001b[35mReturn: 2024-08-11\u001b[0m\n",
      "Weekend Trip from BER to \u001b[33mEDI\u001b[0m: \u001b[36mDeparture: 2024-08-16\u001b[0m, \u001b[35mReturn: 2024-08-18\u001b[0m\n"
     ]
    },
    {
     "name": "stderr",
     "output_type": "stream",
     "text": []
    },
    {
     "name": "stdout",
     "output_type": "stream",
     "text": [
      "Weekend Trip from BER to \u001b[33mEMA\u001b[0m: \u001b[36mDeparture: 2024-03-01\u001b[0m, \u001b[35mReturn: 2024-03-03\u001b[0m\n"
     ]
    },
    {
     "name": "stderr",
     "output_type": "stream",
     "text": []
    },
    {
     "name": "stdout",
     "output_type": "stream",
     "text": [
      "Weekend Trip from BER to \u001b[33mEMA\u001b[0m: \u001b[36mDeparture: 2024-03-08\u001b[0m, \u001b[35mReturn: 2024-03-10\u001b[0m\n",
      "Weekend Trip from BER to \u001b[33mEMA\u001b[0m: \u001b[36mDeparture: 2024-03-15\u001b[0m, \u001b[35mReturn: 2024-03-17\u001b[0m\n"
     ]
    },
    {
     "name": "stderr",
     "output_type": "stream",
     "text": []
    },
    {
     "name": "stdout",
     "output_type": "stream",
     "text": [
      "Weekend Trip from BER to \u001b[33mEMA\u001b[0m: \u001b[36mDeparture: 2024-03-22\u001b[0m, \u001b[35mReturn: 2024-03-24\u001b[0m\n"
     ]
    },
    {
     "name": "stderr",
     "output_type": "stream",
     "text": []
    },
    {
     "name": "stdout",
     "output_type": "stream",
     "text": [
      "Weekend Trip from BER to \u001b[33mEMA\u001b[0m: \u001b[36mDeparture: 2024-03-29\u001b[0m, \u001b[35mReturn: 2024-03-31\u001b[0m\n",
      "Weekend Trip from BER to \u001b[33mEMA\u001b[0m: \u001b[36mDeparture: 2024-04-05\u001b[0m, \u001b[35mReturn: 2024-04-07\u001b[0m\n",
      "Weekend Trip from BER to \u001b[33mEMA\u001b[0m: \u001b[36mDeparture: 2024-04-12\u001b[0m, \u001b[35mReturn: 2024-04-14\u001b[0m\n"
     ]
    },
    {
     "name": "stderr",
     "output_type": "stream",
     "text": []
    },
    {
     "name": "stdout",
     "output_type": "stream",
     "text": [
      "Weekend Trip from BER to \u001b[33mEMA\u001b[0m: \u001b[36mDeparture: 2024-04-19\u001b[0m, \u001b[35mReturn: 2024-04-21\u001b[0m\n",
      "Weekend Trip from BER to \u001b[33mEMA\u001b[0m: \u001b[36mDeparture: 2024-04-26\u001b[0m, \u001b[35mReturn: 2024-04-28\u001b[0m\n"
     ]
    },
    {
     "name": "stderr",
     "output_type": "stream",
     "text": []
    },
    {
     "name": "stdout",
     "output_type": "stream",
     "text": [
      "Weekend Trip from BER to \u001b[33mEMA\u001b[0m: \u001b[36mDeparture: 2024-05-03\u001b[0m, \u001b[35mReturn: 2024-05-05\u001b[0m\n",
      "Weekend Trip from BER to \u001b[33mEMA\u001b[0m: \u001b[36mDeparture: 2024-05-10\u001b[0m, \u001b[35mReturn: 2024-05-12\u001b[0m\n",
      "Weekend Trip from BER to \u001b[33mEMA\u001b[0m: \u001b[36mDeparture: 2024-05-17\u001b[0m, \u001b[35mReturn: 2024-05-19\u001b[0m\n"
     ]
    },
    {
     "name": "stderr",
     "output_type": "stream",
     "text": []
    },
    {
     "name": "stdout",
     "output_type": "stream",
     "text": [
      "Weekend Trip from BER to \u001b[33mEMA\u001b[0m: \u001b[36mDeparture: 2024-05-24\u001b[0m, \u001b[35mReturn: 2024-05-26\u001b[0m\n",
      "Weekend Trip from BER to \u001b[33mEMA\u001b[0m: \u001b[36mDeparture: 2024-05-31\u001b[0m, \u001b[35mReturn: 2024-06-02\u001b[0m\n"
     ]
    },
    {
     "name": "stderr",
     "output_type": "stream",
     "text": []
    },
    {
     "name": "stdout",
     "output_type": "stream",
     "text": [
      "Weekend Trip from BER to \u001b[33mEMA\u001b[0m: \u001b[36mDeparture: 2024-06-07\u001b[0m, \u001b[35mReturn: 2024-06-09\u001b[0m\n",
      "Weekend Trip from BER to \u001b[33mEMA\u001b[0m: \u001b[36mDeparture: 2024-06-14\u001b[0m, \u001b[35mReturn: 2024-06-16\u001b[0m\n"
     ]
    },
    {
     "name": "stderr",
     "output_type": "stream",
     "text": []
    },
    {
     "name": "stdout",
     "output_type": "stream",
     "text": [
      "Weekend Trip from BER to \u001b[33mEMA\u001b[0m: \u001b[36mDeparture: 2024-06-21\u001b[0m, \u001b[35mReturn: 2024-06-23\u001b[0m\n",
      "Weekend Trip from BER to \u001b[33mEMA\u001b[0m: \u001b[36mDeparture: 2024-06-28\u001b[0m, \u001b[35mReturn: 2024-06-30\u001b[0m\n"
     ]
    },
    {
     "name": "stderr",
     "output_type": "stream",
     "text": [
      "Checking destinations:  33%|███▎      | 9/27 [00:25<00:53,  2.94s/it]"
     ]
    },
    {
     "name": "stdout",
     "output_type": "stream",
     "text": [
      "Weekend Trip from BER to \u001b[33mLPA\u001b[0m: \u001b[36mDeparture: 2024-03-01\u001b[0m, \u001b[35mReturn: 2024-03-03\u001b[0m\n",
      "Weekend Trip from BER to \u001b[33mLPA\u001b[0m: \u001b[36mDeparture: 2024-03-08\u001b[0m, \u001b[35mReturn: 2024-03-10\u001b[0m\n",
      "Weekend Trip from BER to \u001b[33mLPA\u001b[0m: \u001b[36mDeparture: 2024-03-15\u001b[0m, \u001b[35mReturn: 2024-03-17\u001b[0m\n"
     ]
    },
    {
     "name": "stderr",
     "output_type": "stream",
     "text": []
    },
    {
     "name": "stdout",
     "output_type": "stream",
     "text": [
      "Weekend Trip from BER to \u001b[33mLPA\u001b[0m: \u001b[36mDeparture: 2024-03-22\u001b[0m, \u001b[35mReturn: 2024-03-24\u001b[0m\n"
     ]
    },
    {
     "name": "stderr",
     "output_type": "stream",
     "text": [
      "Checking destinations:  37%|███▋      | 10/27 [00:28<00:46,  2.71s/it]"
     ]
    },
    {
     "name": "stdout",
     "output_type": "stream",
     "text": [
      "Weekend Trip from BER to \u001b[33mLUX\u001b[0m: \u001b[36mDeparture: 2024-03-29\u001b[0m, \u001b[35mReturn: 2024-03-31\u001b[0m\n",
      "Weekend Trip from BER to \u001b[33mLUX\u001b[0m: \u001b[36mDeparture: 2024-04-05\u001b[0m, \u001b[35mReturn: 2024-04-07\u001b[0m\n",
      "Weekend Trip from BER to \u001b[33mLUX\u001b[0m: \u001b[36mDeparture: 2024-04-12\u001b[0m, \u001b[35mReturn: 2024-04-14\u001b[0m\n"
     ]
    },
    {
     "name": "stderr",
     "output_type": "stream",
     "text": []
    },
    {
     "name": "stdout",
     "output_type": "stream",
     "text": [
      "Weekend Trip from BER to \u001b[33mLUX\u001b[0m: \u001b[36mDeparture: 2024-04-19\u001b[0m, \u001b[35mReturn: 2024-04-21\u001b[0m\n",
      "Weekend Trip from BER to \u001b[33mLUX\u001b[0m: \u001b[36mDeparture: 2024-04-26\u001b[0m, \u001b[35mReturn: 2024-04-28\u001b[0m\n",
      "Weekend Trip from BER to \u001b[33mLUX\u001b[0m: \u001b[36mDeparture: 2024-05-03\u001b[0m, \u001b[35mReturn: 2024-05-05\u001b[0m\n"
     ]
    },
    {
     "name": "stderr",
     "output_type": "stream",
     "text": []
    },
    {
     "name": "stdout",
     "output_type": "stream",
     "text": [
      "Weekend Trip from BER to \u001b[33mLUX\u001b[0m: \u001b[36mDeparture: 2024-05-10\u001b[0m, \u001b[35mReturn: 2024-05-12\u001b[0m\n",
      "Weekend Trip from BER to \u001b[33mLUX\u001b[0m: \u001b[36mDeparture: 2024-05-17\u001b[0m, \u001b[35mReturn: 2024-05-19\u001b[0m\n",
      "Weekend Trip from BER to \u001b[33mLUX\u001b[0m: \u001b[36mDeparture: 2024-05-24\u001b[0m, \u001b[35mReturn: 2024-05-26\u001b[0m\n"
     ]
    },
    {
     "name": "stderr",
     "output_type": "stream",
     "text": []
    },
    {
     "name": "stdout",
     "output_type": "stream",
     "text": [
      "Weekend Trip from BER to \u001b[33mLUX\u001b[0m: \u001b[36mDeparture: 2024-05-31\u001b[0m, \u001b[35mReturn: 2024-06-02\u001b[0m\n",
      "Weekend Trip from BER to \u001b[33mLUX\u001b[0m: \u001b[36mDeparture: 2024-06-07\u001b[0m, \u001b[35mReturn: 2024-06-09\u001b[0m\n"
     ]
    },
    {
     "name": "stderr",
     "output_type": "stream",
     "text": []
    },
    {
     "name": "stdout",
     "output_type": "stream",
     "text": [
      "Weekend Trip from BER to \u001b[33mLUX\u001b[0m: \u001b[36mDeparture: 2024-06-14\u001b[0m, \u001b[35mReturn: 2024-06-16\u001b[0m\n",
      "Weekend Trip from BER to \u001b[33mLUX\u001b[0m: \u001b[36mDeparture: 2024-06-21\u001b[0m, \u001b[35mReturn: 2024-06-23\u001b[0m\n"
     ]
    },
    {
     "name": "stderr",
     "output_type": "stream",
     "text": []
    },
    {
     "name": "stdout",
     "output_type": "stream",
     "text": [
      "Weekend Trip from BER to \u001b[33mLUX\u001b[0m: \u001b[36mDeparture: 2024-06-28\u001b[0m, \u001b[35mReturn: 2024-06-30\u001b[0m\n"
     ]
    },
    {
     "name": "stderr",
     "output_type": "stream",
     "text": []
    },
    {
     "name": "stdout",
     "output_type": "stream",
     "text": [
      "Weekend Trip from BER to \u001b[33mLUX\u001b[0m: \u001b[36mDeparture: 2024-07-05\u001b[0m, \u001b[35mReturn: 2024-07-07\u001b[0m\n",
      "Weekend Trip from BER to \u001b[33mLUX\u001b[0m: \u001b[36mDeparture: 2024-07-12\u001b[0m, \u001b[35mReturn: 2024-07-14\u001b[0m\n",
      "Weekend Trip from BER to \u001b[33mLUX\u001b[0m: \u001b[36mDeparture: 2024-07-19\u001b[0m, \u001b[35mReturn: 2024-07-21\u001b[0m\n"
     ]
    },
    {
     "name": "stderr",
     "output_type": "stream",
     "text": []
    },
    {
     "name": "stdout",
     "output_type": "stream",
     "text": [
      "Weekend Trip from BER to \u001b[33mLUX\u001b[0m: \u001b[36mDeparture: 2024-07-26\u001b[0m, \u001b[35mReturn: 2024-07-28\u001b[0m\n",
      "Weekend Trip from BER to \u001b[33mLUX\u001b[0m: \u001b[36mDeparture: 2024-08-02\u001b[0m, \u001b[35mReturn: 2024-08-04\u001b[0m\n"
     ]
    },
    {
     "name": "stderr",
     "output_type": "stream",
     "text": [
      "Checking destinations:  41%|████      | 11/27 [00:30<00:42,  2.64s/it]"
     ]
    },
    {
     "name": "stdout",
     "output_type": "stream",
     "text": [
      "Weekend Trip from BER to \u001b[33mLUX\u001b[0m: \u001b[36mDeparture: 2024-08-09\u001b[0m, \u001b[35mReturn: 2024-08-11\u001b[0m\n",
      "Weekend Trip from BER to \u001b[33mLUX\u001b[0m: \u001b[36mDeparture: 2024-08-16\u001b[0m, \u001b[35mReturn: 2024-08-18\u001b[0m\n"
     ]
    },
    {
     "name": "stderr",
     "output_type": "stream",
     "text": []
    },
    {
     "name": "stdout",
     "output_type": "stream",
     "text": [
      "Weekend Trip from BER to \u001b[33mMAD\u001b[0m: \u001b[36mDeparture: 2024-03-01\u001b[0m, \u001b[35mReturn: 2024-03-03\u001b[0m\n"
     ]
    },
    {
     "name": "stderr",
     "output_type": "stream",
     "text": []
    },
    {
     "name": "stdout",
     "output_type": "stream",
     "text": [
      "Weekend Trip from BER to \u001b[33mMAD\u001b[0m: \u001b[36mDeparture: 2024-03-08\u001b[0m, \u001b[35mReturn: 2024-03-10\u001b[0m\n",
      "Weekend Trip from BER to \u001b[33mMAD\u001b[0m: \u001b[36mDeparture: 2024-03-15\u001b[0m, \u001b[35mReturn: 2024-03-17\u001b[0m\n",
      "Weekend Trip from BER to \u001b[33mMAD\u001b[0m: \u001b[36mDeparture: 2024-03-22\u001b[0m, \u001b[35mReturn: 2024-03-24\u001b[0m\n"
     ]
    },
    {
     "name": "stderr",
     "output_type": "stream",
     "text": []
    },
    {
     "name": "stdout",
     "output_type": "stream",
     "text": [
      "Weekend Trip from BER to \u001b[33mMAD\u001b[0m: \u001b[36mDeparture: 2024-03-29\u001b[0m, \u001b[35mReturn: 2024-03-31\u001b[0m\n",
      "Weekend Trip from BER to \u001b[33mMAD\u001b[0m: \u001b[36mDeparture: 2024-04-05\u001b[0m, \u001b[35mReturn: 2024-04-07\u001b[0m\n",
      "Weekend Trip from BER to \u001b[33mMAD\u001b[0m: \u001b[36mDeparture: 2024-04-12\u001b[0m, \u001b[35mReturn: 2024-04-14\u001b[0m\n"
     ]
    },
    {
     "name": "stderr",
     "output_type": "stream",
     "text": []
    },
    {
     "name": "stdout",
     "output_type": "stream",
     "text": [
      "Weekend Trip from BER to \u001b[33mMAD\u001b[0m: \u001b[36mDeparture: 2024-04-19\u001b[0m, \u001b[35mReturn: 2024-04-21\u001b[0m\n",
      "Weekend Trip from BER to \u001b[33mMAD\u001b[0m: \u001b[36mDeparture: 2024-04-26\u001b[0m, \u001b[35mReturn: 2024-04-28\u001b[0m\n"
     ]
    },
    {
     "name": "stderr",
     "output_type": "stream",
     "text": []
    },
    {
     "name": "stdout",
     "output_type": "stream",
     "text": [
      "Weekend Trip from BER to \u001b[33mMAD\u001b[0m: \u001b[36mDeparture: 2024-05-03\u001b[0m, \u001b[35mReturn: 2024-05-05\u001b[0m\n",
      "Weekend Trip from BER to \u001b[33mMAD\u001b[0m: \u001b[36mDeparture: 2024-05-10\u001b[0m, \u001b[35mReturn: 2024-05-12\u001b[0m\n"
     ]
    },
    {
     "name": "stderr",
     "output_type": "stream",
     "text": []
    },
    {
     "name": "stdout",
     "output_type": "stream",
     "text": [
      "Weekend Trip from BER to \u001b[33mMAD\u001b[0m: \u001b[36mDeparture: 2024-05-17\u001b[0m, \u001b[35mReturn: 2024-05-19\u001b[0m\n",
      "Weekend Trip from BER to \u001b[33mMAD\u001b[0m: \u001b[36mDeparture: 2024-05-24\u001b[0m, \u001b[35mReturn: 2024-05-26\u001b[0m\n"
     ]
    },
    {
     "name": "stderr",
     "output_type": "stream",
     "text": []
    },
    {
     "name": "stdout",
     "output_type": "stream",
     "text": [
      "Weekend Trip from BER to \u001b[33mMAD\u001b[0m: \u001b[36mDeparture: 2024-05-31\u001b[0m, \u001b[35mReturn: 2024-06-02\u001b[0m\n",
      "Weekend Trip from BER to \u001b[33mMAD\u001b[0m: \u001b[36mDeparture: 2024-06-07\u001b[0m, \u001b[35mReturn: 2024-06-09\u001b[0m\n",
      "Weekend Trip from BER to \u001b[33mMAD\u001b[0m: \u001b[36mDeparture: 2024-06-14\u001b[0m, \u001b[35mReturn: 2024-06-16\u001b[0m\n"
     ]
    },
    {
     "name": "stderr",
     "output_type": "stream",
     "text": []
    },
    {
     "name": "stdout",
     "output_type": "stream",
     "text": [
      "Weekend Trip from BER to \u001b[33mMAD\u001b[0m: \u001b[36mDeparture: 2024-06-21\u001b[0m, \u001b[35mReturn: 2024-06-23\u001b[0m\n",
      "Weekend Trip from BER to \u001b[33mMAD\u001b[0m: \u001b[36mDeparture: 2024-06-28\u001b[0m, \u001b[35mReturn: 2024-06-30\u001b[0m\n",
      "Weekend Trip from BER to \u001b[33mMAD\u001b[0m: \u001b[36mDeparture: 2024-07-05\u001b[0m, \u001b[35mReturn: 2024-07-07\u001b[0m\n"
     ]
    },
    {
     "name": "stderr",
     "output_type": "stream",
     "text": []
    },
    {
     "name": "stdout",
     "output_type": "stream",
     "text": [
      "Weekend Trip from BER to \u001b[33mMAD\u001b[0m: \u001b[36mDeparture: 2024-07-12\u001b[0m, \u001b[35mReturn: 2024-07-14\u001b[0m\n",
      "Weekend Trip from BER to \u001b[33mMAD\u001b[0m: \u001b[36mDeparture: 2024-07-19\u001b[0m, \u001b[35mReturn: 2024-07-21\u001b[0m\n",
      "Weekend Trip from BER to \u001b[33mMAD\u001b[0m: \u001b[36mDeparture: 2024-07-26\u001b[0m, \u001b[35mReturn: 2024-07-28\u001b[0m\n"
     ]
    },
    {
     "name": "stderr",
     "output_type": "stream",
     "text": []
    },
    {
     "name": "stdout",
     "output_type": "stream",
     "text": [
      "Weekend Trip from BER to \u001b[33mMAD\u001b[0m: \u001b[36mDeparture: 2024-08-02\u001b[0m, \u001b[35mReturn: 2024-08-04\u001b[0m\n",
      "Weekend Trip from BER to \u001b[33mMAD\u001b[0m: \u001b[36mDeparture: 2024-08-09\u001b[0m, \u001b[35mReturn: 2024-08-11\u001b[0m\n"
     ]
    },
    {
     "name": "stderr",
     "output_type": "stream",
     "text": [
      "Checking destinations:  44%|████▍     | 12/27 [00:32<00:38,  2.56s/it]"
     ]
    },
    {
     "name": "stdout",
     "output_type": "stream",
     "text": [
      "Weekend Trip from BER to \u001b[33mMAD\u001b[0m: \u001b[36mDeparture: 2024-08-16\u001b[0m, \u001b[35mReturn: 2024-08-18\u001b[0m\n"
     ]
    },
    {
     "name": "stderr",
     "output_type": "stream",
     "text": []
    },
    {
     "name": "stdout",
     "output_type": "stream",
     "text": [
      "Weekend Trip from BER to \u001b[33mMAN\u001b[0m: \u001b[36mDeparture: 2024-03-01\u001b[0m, \u001b[35mReturn: 2024-03-03\u001b[0m\n",
      "Weekend Trip from BER to \u001b[33mMAN\u001b[0m: \u001b[36mDeparture: 2024-03-08\u001b[0m, \u001b[35mReturn: 2024-03-10\u001b[0m\n",
      "Weekend Trip from BER to \u001b[33mMAN\u001b[0m: \u001b[36mDeparture: 2024-03-15\u001b[0m, \u001b[35mReturn: 2024-03-17\u001b[0m\n"
     ]
    },
    {
     "name": "stderr",
     "output_type": "stream",
     "text": []
    },
    {
     "name": "stdout",
     "output_type": "stream",
     "text": [
      "Weekend Trip from BER to \u001b[33mMAN\u001b[0m: \u001b[36mDeparture: 2024-03-22\u001b[0m, \u001b[35mReturn: 2024-03-24\u001b[0m\n",
      "Weekend Trip from BER to \u001b[33mMAN\u001b[0m: \u001b[36mDeparture: 2024-03-29\u001b[0m, \u001b[35mReturn: 2024-03-31\u001b[0m\n"
     ]
    },
    {
     "name": "stderr",
     "output_type": "stream",
     "text": []
    },
    {
     "name": "stdout",
     "output_type": "stream",
     "text": [
      "Weekend Trip from BER to \u001b[33mMAN\u001b[0m: \u001b[36mDeparture: 2024-04-05\u001b[0m, \u001b[35mReturn: 2024-04-07\u001b[0m\n",
      "Weekend Trip from BER to \u001b[33mMAN\u001b[0m: \u001b[36mDeparture: 2024-04-12\u001b[0m, \u001b[35mReturn: 2024-04-14\u001b[0m\n",
      "Weekend Trip from BER to \u001b[33mMAN\u001b[0m: \u001b[36mDeparture: 2024-04-19\u001b[0m, \u001b[35mReturn: 2024-04-21\u001b[0m\n"
     ]
    },
    {
     "name": "stderr",
     "output_type": "stream",
     "text": []
    },
    {
     "name": "stdout",
     "output_type": "stream",
     "text": [
      "Weekend Trip from BER to \u001b[33mMAN\u001b[0m: \u001b[36mDeparture: 2024-04-26\u001b[0m, \u001b[35mReturn: 2024-04-28\u001b[0m\n",
      "Weekend Trip from BER to \u001b[33mMAN\u001b[0m: \u001b[36mDeparture: 2024-05-03\u001b[0m, \u001b[35mReturn: 2024-05-05\u001b[0m\n",
      "Weekend Trip from BER to \u001b[33mMAN\u001b[0m: \u001b[36mDeparture: 2024-05-10\u001b[0m, \u001b[35mReturn: 2024-05-12\u001b[0m\n"
     ]
    },
    {
     "name": "stderr",
     "output_type": "stream",
     "text": []
    },
    {
     "name": "stdout",
     "output_type": "stream",
     "text": [
      "Weekend Trip from BER to \u001b[33mMAN\u001b[0m: \u001b[36mDeparture: 2024-05-17\u001b[0m, \u001b[35mReturn: 2024-05-19\u001b[0m\n",
      "Weekend Trip from BER to \u001b[33mMAN\u001b[0m: \u001b[36mDeparture: 2024-05-24\u001b[0m, \u001b[35mReturn: 2024-05-26\u001b[0m\n"
     ]
    },
    {
     "name": "stderr",
     "output_type": "stream",
     "text": []
    },
    {
     "name": "stdout",
     "output_type": "stream",
     "text": [
      "Weekend Trip from BER to \u001b[33mMAN\u001b[0m: \u001b[36mDeparture: 2024-05-31\u001b[0m, \u001b[35mReturn: 2024-06-02\u001b[0m\n",
      "Weekend Trip from BER to \u001b[33mMAN\u001b[0m: \u001b[36mDeparture: 2024-06-07\u001b[0m, \u001b[35mReturn: 2024-06-09\u001b[0m\n"
     ]
    },
    {
     "name": "stderr",
     "output_type": "stream",
     "text": []
    },
    {
     "name": "stdout",
     "output_type": "stream",
     "text": [
      "Weekend Trip from BER to \u001b[33mMAN\u001b[0m: \u001b[36mDeparture: 2024-06-14\u001b[0m, \u001b[35mReturn: 2024-06-16\u001b[0m\n",
      "Weekend Trip from BER to \u001b[33mMAN\u001b[0m: \u001b[36mDeparture: 2024-06-21\u001b[0m, \u001b[35mReturn: 2024-06-23\u001b[0m\n"
     ]
    },
    {
     "name": "stderr",
     "output_type": "stream",
     "text": []
    },
    {
     "name": "stdout",
     "output_type": "stream",
     "text": [
      "Weekend Trip from BER to \u001b[33mMAN\u001b[0m: \u001b[36mDeparture: 2024-06-28\u001b[0m, \u001b[35mReturn: 2024-06-30\u001b[0m\n",
      "Weekend Trip from BER to \u001b[33mMAN\u001b[0m: \u001b[36mDeparture: 2024-07-05\u001b[0m, \u001b[35mReturn: 2024-07-07\u001b[0m\n",
      "Weekend Trip from BER to \u001b[33mMAN\u001b[0m: \u001b[36mDeparture: 2024-07-12\u001b[0m, \u001b[35mReturn: 2024-07-14\u001b[0m\n"
     ]
    },
    {
     "name": "stderr",
     "output_type": "stream",
     "text": []
    },
    {
     "name": "stdout",
     "output_type": "stream",
     "text": [
      "Weekend Trip from BER to \u001b[33mMAN\u001b[0m: \u001b[36mDeparture: 2024-07-19\u001b[0m, \u001b[35mReturn: 2024-07-21\u001b[0m\n",
      "Weekend Trip from BER to \u001b[33mMAN\u001b[0m: \u001b[36mDeparture: 2024-07-26\u001b[0m, \u001b[35mReturn: 2024-07-28\u001b[0m\n"
     ]
    },
    {
     "name": "stderr",
     "output_type": "stream",
     "text": []
    },
    {
     "name": "stdout",
     "output_type": "stream",
     "text": [
      "Weekend Trip from BER to \u001b[33mMAN\u001b[0m: \u001b[36mDeparture: 2024-08-02\u001b[0m, \u001b[35mReturn: 2024-08-04\u001b[0m\n",
      "Weekend Trip from BER to \u001b[33mMAN\u001b[0m: \u001b[36mDeparture: 2024-08-09\u001b[0m, \u001b[35mReturn: 2024-08-11\u001b[0m\n"
     ]
    },
    {
     "name": "stderr",
     "output_type": "stream",
     "text": [
      "Checking destinations:  48%|████▊     | 13/27 [00:35<00:35,  2.56s/it]"
     ]
    },
    {
     "name": "stdout",
     "output_type": "stream",
     "text": [
      "Weekend Trip from BER to \u001b[33mMAN\u001b[0m: \u001b[36mDeparture: 2024-08-16\u001b[0m, \u001b[35mReturn: 2024-08-18\u001b[0m\n"
     ]
    },
    {
     "name": "stderr",
     "output_type": "stream",
     "text": []
    },
    {
     "name": "stdout",
     "output_type": "stream",
     "text": [
      "Weekend Trip from BER to \u001b[33mMRS\u001b[0m: \u001b[36mDeparture: 2024-03-01\u001b[0m, \u001b[35mReturn: 2024-03-03\u001b[0m\n",
      "Weekend Trip from BER to \u001b[33mMRS\u001b[0m: \u001b[36mDeparture: 2024-03-08\u001b[0m, \u001b[35mReturn: 2024-03-10\u001b[0m\n"
     ]
    },
    {
     "name": "stderr",
     "output_type": "stream",
     "text": []
    },
    {
     "name": "stdout",
     "output_type": "stream",
     "text": [
      "Weekend Trip from BER to \u001b[33mMRS\u001b[0m: \u001b[36mDeparture: 2024-03-15\u001b[0m, \u001b[35mReturn: 2024-03-17\u001b[0m\n"
     ]
    },
    {
     "name": "stderr",
     "output_type": "stream",
     "text": []
    },
    {
     "name": "stdout",
     "output_type": "stream",
     "text": [
      "Weekend Trip from BER to \u001b[33mMRS\u001b[0m: \u001b[36mDeparture: 2024-03-22\u001b[0m, \u001b[35mReturn: 2024-03-24\u001b[0m\n"
     ]
    },
    {
     "name": "stderr",
     "output_type": "stream",
     "text": []
    },
    {
     "name": "stdout",
     "output_type": "stream",
     "text": [
      "Weekend Trip from BER to \u001b[33mMRS\u001b[0m: \u001b[36mDeparture: 2024-03-29\u001b[0m, \u001b[35mReturn: 2024-03-31\u001b[0m\n"
     ]
    },
    {
     "name": "stderr",
     "output_type": "stream",
     "text": [
      "Checking destinations:  52%|█████▏    | 14/27 [00:40<00:44,  3.41s/it]"
     ]
    },
    {
     "name": "stdout",
     "output_type": "stream",
     "text": [
      "Weekend Trip from BER to \u001b[33mOPO\u001b[0m: \u001b[36mDeparture: 2024-03-01\u001b[0m, \u001b[35mReturn: 2024-03-03\u001b[0m\n",
      "Weekend Trip from BER to \u001b[33mOPO\u001b[0m: \u001b[36mDeparture: 2024-03-08\u001b[0m, \u001b[35mReturn: 2024-03-10\u001b[0m\n",
      "Weekend Trip from BER to \u001b[33mOPO\u001b[0m: \u001b[36mDeparture: 2024-03-15\u001b[0m, \u001b[35mReturn: 2024-03-17\u001b[0m\n"
     ]
    },
    {
     "name": "stderr",
     "output_type": "stream",
     "text": []
    },
    {
     "name": "stdout",
     "output_type": "stream",
     "text": [
      "Weekend Trip from BER to \u001b[33mOPO\u001b[0m: \u001b[36mDeparture: 2024-03-22\u001b[0m, \u001b[35mReturn: 2024-03-24\u001b[0m\n",
      "Weekend Trip from BER to \u001b[33mOPO\u001b[0m: \u001b[36mDeparture: 2024-03-29\u001b[0m, \u001b[35mReturn: 2024-03-31\u001b[0m\n"
     ]
    },
    {
     "name": "stderr",
     "output_type": "stream",
     "text": []
    },
    {
     "name": "stdout",
     "output_type": "stream",
     "text": [
      "Weekend Trip from BER to \u001b[33mOPO\u001b[0m: \u001b[36mDeparture: 2024-04-05\u001b[0m, \u001b[35mReturn: 2024-04-07\u001b[0m\n",
      "Weekend Trip from BER to \u001b[33mOPO\u001b[0m: \u001b[36mDeparture: 2024-04-12\u001b[0m, \u001b[35mReturn: 2024-04-14\u001b[0m\n"
     ]
    },
    {
     "name": "stderr",
     "output_type": "stream",
     "text": []
    },
    {
     "name": "stdout",
     "output_type": "stream",
     "text": [
      "Weekend Trip from BER to \u001b[33mOPO\u001b[0m: \u001b[36mDeparture: 2024-04-19\u001b[0m, \u001b[35mReturn: 2024-04-21\u001b[0m\n"
     ]
    },
    {
     "name": "stderr",
     "output_type": "stream",
     "text": []
    },
    {
     "name": "stdout",
     "output_type": "stream",
     "text": [
      "Weekend Trip from BER to \u001b[33mOPO\u001b[0m: \u001b[36mDeparture: 2024-04-26\u001b[0m, \u001b[35mReturn: 2024-04-28\u001b[0m\n",
      "Weekend Trip from BER to \u001b[33mOPO\u001b[0m: \u001b[36mDeparture: 2024-05-03\u001b[0m, \u001b[35mReturn: 2024-05-05\u001b[0m\n",
      "Weekend Trip from BER to \u001b[33mOPO\u001b[0m: \u001b[36mDeparture: 2024-05-10\u001b[0m, \u001b[35mReturn: 2024-05-12\u001b[0m\n"
     ]
    },
    {
     "name": "stderr",
     "output_type": "stream",
     "text": []
    },
    {
     "name": "stdout",
     "output_type": "stream",
     "text": [
      "Weekend Trip from BER to \u001b[33mOPO\u001b[0m: \u001b[36mDeparture: 2024-05-17\u001b[0m, \u001b[35mReturn: 2024-05-19\u001b[0m\n",
      "Weekend Trip from BER to \u001b[33mOPO\u001b[0m: \u001b[36mDeparture: 2024-05-24\u001b[0m, \u001b[35mReturn: 2024-05-26\u001b[0m\n"
     ]
    },
    {
     "name": "stderr",
     "output_type": "stream",
     "text": []
    },
    {
     "name": "stdout",
     "output_type": "stream",
     "text": [
      "Weekend Trip from BER to \u001b[33mOPO\u001b[0m: \u001b[36mDeparture: 2024-05-31\u001b[0m, \u001b[35mReturn: 2024-06-02\u001b[0m\n",
      "Weekend Trip from BER to \u001b[33mOPO\u001b[0m: \u001b[36mDeparture: 2024-06-07\u001b[0m, \u001b[35mReturn: 2024-06-09\u001b[0m\n"
     ]
    },
    {
     "name": "stderr",
     "output_type": "stream",
     "text": []
    },
    {
     "name": "stdout",
     "output_type": "stream",
     "text": [
      "Weekend Trip from BER to \u001b[33mOPO\u001b[0m: \u001b[36mDeparture: 2024-06-14\u001b[0m, \u001b[35mReturn: 2024-06-16\u001b[0m\n",
      "Weekend Trip from BER to \u001b[33mOPO\u001b[0m: \u001b[36mDeparture: 2024-06-21\u001b[0m, \u001b[35mReturn: 2024-06-23\u001b[0m\n",
      "Weekend Trip from BER to \u001b[33mOPO\u001b[0m: \u001b[36mDeparture: 2024-06-28\u001b[0m, \u001b[35mReturn: 2024-06-30\u001b[0m\n"
     ]
    },
    {
     "name": "stderr",
     "output_type": "stream",
     "text": []
    },
    {
     "name": "stdout",
     "output_type": "stream",
     "text": [
      "Weekend Trip from BER to \u001b[33mOPO\u001b[0m: \u001b[36mDeparture: 2024-07-05\u001b[0m, \u001b[35mReturn: 2024-07-07\u001b[0m\n"
     ]
    },
    {
     "name": "stderr",
     "output_type": "stream",
     "text": []
    },
    {
     "name": "stdout",
     "output_type": "stream",
     "text": [
      "Weekend Trip from BER to \u001b[33mOPO\u001b[0m: \u001b[36mDeparture: 2024-07-12\u001b[0m, \u001b[35mReturn: 2024-07-14\u001b[0m\n"
     ]
    },
    {
     "name": "stderr",
     "output_type": "stream",
     "text": []
    },
    {
     "name": "stdout",
     "output_type": "stream",
     "text": [
      "Weekend Trip from BER to \u001b[33mOPO\u001b[0m: \u001b[36mDeparture: 2024-07-19\u001b[0m, \u001b[35mReturn: 2024-07-21\u001b[0m\n",
      "Weekend Trip from BER to \u001b[33mOPO\u001b[0m: \u001b[36mDeparture: 2024-07-26\u001b[0m, \u001b[35mReturn: 2024-07-28\u001b[0m\n"
     ]
    },
    {
     "name": "stderr",
     "output_type": "stream",
     "text": [
      "\n"
     ]
    },
    {
     "name": "stdout",
     "output_type": "stream",
     "text": [
      "Weekend Trip from BER to \u001b[33mOPO\u001b[0m: \u001b[36mDeparture: 2024-08-02\u001b[0m, \u001b[35mReturn: 2024-08-04\u001b[0m\n",
      "Weekend Trip from BER to \u001b[33mOPO\u001b[0m: \u001b[36mDeparture: 2024-08-09\u001b[0m, \u001b[35mReturn: 2024-08-11\u001b[0m\n",
      "Weekend Trip from BER to \u001b[33mOPO\u001b[0m: \u001b[36mDeparture: 2024-08-16\u001b[0m, \u001b[35mReturn: 2024-08-18\u001b[0m\n"
     ]
    },
    {
     "name": "stderr",
     "output_type": "stream",
     "text": [
      "Checking destinations:  56%|█████▌    | 15/27 [00:44<00:43,  3.60s/it]"
     ]
    },
    {
     "name": "stdout",
     "output_type": "stream",
     "text": [
      "Weekend Trip from BER to \u001b[33mOTP\u001b[0m: \u001b[36mDeparture: 2024-03-01\u001b[0m, \u001b[35mReturn: 2024-03-03\u001b[0m\n",
      "Weekend Trip from BER to \u001b[33mOTP\u001b[0m: \u001b[36mDeparture: 2024-03-08\u001b[0m, \u001b[35mReturn: 2024-03-10\u001b[0m\n"
     ]
    },
    {
     "name": "stderr",
     "output_type": "stream",
     "text": []
    },
    {
     "name": "stdout",
     "output_type": "stream",
     "text": [
      "Weekend Trip from BER to \u001b[33mOTP\u001b[0m: \u001b[36mDeparture: 2024-03-15\u001b[0m, \u001b[35mReturn: 2024-03-17\u001b[0m\n"
     ]
    },
    {
     "name": "stderr",
     "output_type": "stream",
     "text": []
    },
    {
     "name": "stdout",
     "output_type": "stream",
     "text": [
      "Weekend Trip from BER to \u001b[33mOTP\u001b[0m: \u001b[36mDeparture: 2024-03-22\u001b[0m, \u001b[35mReturn: 2024-03-24\u001b[0m\n"
     ]
    },
    {
     "name": "stderr",
     "output_type": "stream",
     "text": []
    },
    {
     "name": "stdout",
     "output_type": "stream",
     "text": [
      "Weekend Trip from BER to \u001b[33mOTP\u001b[0m: \u001b[36mDeparture: 2024-03-29\u001b[0m, \u001b[35mReturn: 2024-03-31\u001b[0m\n"
     ]
    },
    {
     "name": "stderr",
     "output_type": "stream",
     "text": []
    },
    {
     "name": "stdout",
     "output_type": "stream",
     "text": [
      "Weekend Trip from BER to \u001b[33mOTP\u001b[0m: \u001b[36mDeparture: 2024-04-05\u001b[0m, \u001b[35mReturn: 2024-04-07\u001b[0m\n",
      "Weekend Trip from BER to \u001b[33mOTP\u001b[0m: \u001b[36mDeparture: 2024-04-12\u001b[0m, \u001b[35mReturn: 2024-04-14\u001b[0m\n",
      "Weekend Trip from BER to \u001b[33mOTP\u001b[0m: \u001b[36mDeparture: 2024-04-19\u001b[0m, \u001b[35mReturn: 2024-04-21\u001b[0m\n"
     ]
    },
    {
     "name": "stderr",
     "output_type": "stream",
     "text": []
    },
    {
     "name": "stdout",
     "output_type": "stream",
     "text": [
      "Weekend Trip from BER to \u001b[33mOTP\u001b[0m: \u001b[36mDeparture: 2024-04-26\u001b[0m, \u001b[35mReturn: 2024-04-28\u001b[0m\n"
     ]
    },
    {
     "name": "stderr",
     "output_type": "stream",
     "text": []
    },
    {
     "name": "stdout",
     "output_type": "stream",
     "text": [
      "Weekend Trip from BER to \u001b[33mOTP\u001b[0m: \u001b[36mDeparture: 2024-05-03\u001b[0m, \u001b[35mReturn: 2024-05-05\u001b[0m\n",
      "Weekend Trip from BER to \u001b[33mOTP\u001b[0m: \u001b[36mDeparture: 2024-05-10\u001b[0m, \u001b[35mReturn: 2024-05-12\u001b[0m\n",
      "Weekend Trip from BER to \u001b[33mOTP\u001b[0m: \u001b[36mDeparture: 2024-05-17\u001b[0m, \u001b[35mReturn: 2024-05-19\u001b[0m\n"
     ]
    },
    {
     "name": "stderr",
     "output_type": "stream",
     "text": []
    },
    {
     "name": "stdout",
     "output_type": "stream",
     "text": [
      "Weekend Trip from BER to \u001b[33mOTP\u001b[0m: \u001b[36mDeparture: 2024-05-24\u001b[0m, \u001b[35mReturn: 2024-05-26\u001b[0m\n"
     ]
    },
    {
     "name": "stderr",
     "output_type": "stream",
     "text": []
    },
    {
     "name": "stdout",
     "output_type": "stream",
     "text": [
      "Weekend Trip from BER to \u001b[33mOTP\u001b[0m: \u001b[36mDeparture: 2024-05-31\u001b[0m, \u001b[35mReturn: 2024-06-02\u001b[0m\n"
     ]
    },
    {
     "name": "stderr",
     "output_type": "stream",
     "text": []
    },
    {
     "name": "stdout",
     "output_type": "stream",
     "text": [
      "Weekend Trip from BER to \u001b[33mOTP\u001b[0m: \u001b[36mDeparture: 2024-06-07\u001b[0m, \u001b[35mReturn: 2024-06-09\u001b[0m\n"
     ]
    },
    {
     "name": "stderr",
     "output_type": "stream",
     "text": []
    },
    {
     "name": "stdout",
     "output_type": "stream",
     "text": [
      "Weekend Trip from BER to \u001b[33mOTP\u001b[0m: \u001b[36mDeparture: 2024-06-14\u001b[0m, \u001b[35mReturn: 2024-06-16\u001b[0m\n"
     ]
    },
    {
     "name": "stderr",
     "output_type": "stream",
     "text": []
    },
    {
     "name": "stdout",
     "output_type": "stream",
     "text": [
      "Weekend Trip from BER to \u001b[33mOTP\u001b[0m: \u001b[36mDeparture: 2024-06-21\u001b[0m, \u001b[35mReturn: 2024-06-23\u001b[0m\n",
      "Weekend Trip from BER to \u001b[33mOTP\u001b[0m: \u001b[36mDeparture: 2024-06-28\u001b[0m, \u001b[35mReturn: 2024-06-30\u001b[0m\n",
      "Weekend Trip from BER to \u001b[33mOTP\u001b[0m: \u001b[36mDeparture: 2024-07-05\u001b[0m, \u001b[35mReturn: 2024-07-07\u001b[0m\n"
     ]
    },
    {
     "name": "stderr",
     "output_type": "stream",
     "text": []
    },
    {
     "name": "stdout",
     "output_type": "stream",
     "text": [
      "Weekend Trip from BER to \u001b[33mOTP\u001b[0m: \u001b[36mDeparture: 2024-07-12\u001b[0m, \u001b[35mReturn: 2024-07-14\u001b[0m\n",
      "Weekend Trip from BER to \u001b[33mOTP\u001b[0m: \u001b[36mDeparture: 2024-07-19\u001b[0m, \u001b[35mReturn: 2024-07-21\u001b[0m\n"
     ]
    },
    {
     "name": "stderr",
     "output_type": "stream",
     "text": []
    },
    {
     "name": "stdout",
     "output_type": "stream",
     "text": [
      "Weekend Trip from BER to \u001b[33mOTP\u001b[0m: \u001b[36mDeparture: 2024-07-26\u001b[0m, \u001b[35mReturn: 2024-07-28\u001b[0m\n",
      "Weekend Trip from BER to \u001b[33mOTP\u001b[0m: \u001b[36mDeparture: 2024-08-02\u001b[0m, \u001b[35mReturn: 2024-08-04\u001b[0m\n"
     ]
    },
    {
     "name": "stderr",
     "output_type": "stream",
     "text": [
      "Checking destinations:  59%|█████▉    | 16/27 [00:49<00:43,  3.93s/it]"
     ]
    },
    {
     "name": "stdout",
     "output_type": "stream",
     "text": [
      "Weekend Trip from BER to \u001b[33mOTP\u001b[0m: \u001b[36mDeparture: 2024-08-09\u001b[0m, \u001b[35mReturn: 2024-08-11\u001b[0m\n",
      "Weekend Trip from BER to \u001b[33mOTP\u001b[0m: \u001b[36mDeparture: 2024-08-16\u001b[0m, \u001b[35mReturn: 2024-08-18\u001b[0m\n"
     ]
    },
    {
     "name": "stderr",
     "output_type": "stream",
     "text": []
    },
    {
     "name": "stdout",
     "output_type": "stream",
     "text": [
      "Weekend Trip from BER to \u001b[33mPMI\u001b[0m: \u001b[36mDeparture: 2024-03-01\u001b[0m, \u001b[35mReturn: 2024-03-03\u001b[0m\n"
     ]
    },
    {
     "name": "stderr",
     "output_type": "stream",
     "text": []
    },
    {
     "name": "stdout",
     "output_type": "stream",
     "text": [
      "Weekend Trip from BER to \u001b[33mPMI\u001b[0m: \u001b[36mDeparture: 2024-03-08\u001b[0m, \u001b[35mReturn: 2024-03-10\u001b[0m\n",
      "Weekend Trip from BER to \u001b[33mPMI\u001b[0m: \u001b[36mDeparture: 2024-03-15\u001b[0m, \u001b[35mReturn: 2024-03-17\u001b[0m\n",
      "Weekend Trip from BER to \u001b[33mPMI\u001b[0m: \u001b[36mDeparture: 2024-03-22\u001b[0m, \u001b[35mReturn: 2024-03-24\u001b[0m\n"
     ]
    },
    {
     "name": "stderr",
     "output_type": "stream",
     "text": []
    },
    {
     "name": "stdout",
     "output_type": "stream",
     "text": [
      "Weekend Trip from BER to \u001b[33mPMI\u001b[0m: \u001b[36mDeparture: 2024-03-29\u001b[0m, \u001b[35mReturn: 2024-03-31\u001b[0m\n",
      "Weekend Trip from BER to \u001b[33mPMI\u001b[0m: \u001b[36mDeparture: 2024-04-05\u001b[0m, \u001b[35mReturn: 2024-04-07\u001b[0m\n"
     ]
    },
    {
     "name": "stderr",
     "output_type": "stream",
     "text": []
    },
    {
     "name": "stdout",
     "output_type": "stream",
     "text": [
      "Weekend Trip from BER to \u001b[33mPMI\u001b[0m: \u001b[36mDeparture: 2024-04-12\u001b[0m, \u001b[35mReturn: 2024-04-14\u001b[0m\n",
      "Weekend Trip from BER to \u001b[33mPMI\u001b[0m: \u001b[36mDeparture: 2024-04-19\u001b[0m, \u001b[35mReturn: 2024-04-21\u001b[0m\n"
     ]
    },
    {
     "name": "stderr",
     "output_type": "stream",
     "text": []
    },
    {
     "name": "stdout",
     "output_type": "stream",
     "text": [
      "Weekend Trip from BER to \u001b[33mPMI\u001b[0m: \u001b[36mDeparture: 2024-04-26\u001b[0m, \u001b[35mReturn: 2024-04-28\u001b[0m\n"
     ]
    },
    {
     "name": "stderr",
     "output_type": "stream",
     "text": [
      "\n"
     ]
    },
    {
     "name": "stdout",
     "output_type": "stream",
     "text": [
      "Weekend Trip from BER to \u001b[33mPMI\u001b[0m: \u001b[36mDeparture: 2024-05-03\u001b[0m, \u001b[35mReturn: 2024-05-05\u001b[0m\n",
      "Weekend Trip from BER to \u001b[33mPMI\u001b[0m: \u001b[36mDeparture: 2024-05-10\u001b[0m, \u001b[35mReturn: 2024-05-12\u001b[0m\n"
     ]
    },
    {
     "name": "stderr",
     "output_type": "stream",
     "text": [
      "Flights to PMI:  44%|████▍     | 11/25 [00:00<00:01, 10.79it/s]\u001b[A"
     ]
    },
    {
     "name": "stdout",
     "output_type": "stream",
     "text": [
      "Weekend Trip from BER to \u001b[33mPMI\u001b[0m: \u001b[36mDeparture: 2024-05-17\u001b[0m, \u001b[35mReturn: 2024-05-19\u001b[0m\n",
      "Weekend Trip from BER to \u001b[33mPMI\u001b[0m: \u001b[36mDeparture: 2024-05-24\u001b[0m, \u001b[35mReturn: 2024-05-26\u001b[0m\n",
      "Weekend Trip from BER to \u001b[33mPMI\u001b[0m: \u001b[36mDeparture: 2024-05-31\u001b[0m, \u001b[35mReturn: 2024-06-02\u001b[0m\n"
     ]
    },
    {
     "name": "stderr",
     "output_type": "stream",
     "text": []
    },
    {
     "name": "stdout",
     "output_type": "stream",
     "text": [
      "Weekend Trip from BER to \u001b[33mPMI\u001b[0m: \u001b[36mDeparture: 2024-06-07\u001b[0m, \u001b[35mReturn: 2024-06-09\u001b[0m\n",
      "Weekend Trip from BER to \u001b[33mPMI\u001b[0m: \u001b[36mDeparture: 2024-06-14\u001b[0m, \u001b[35mReturn: 2024-06-16\u001b[0m\n"
     ]
    },
    {
     "name": "stderr",
     "output_type": "stream",
     "text": []
    },
    {
     "name": "stdout",
     "output_type": "stream",
     "text": [
      "Weekend Trip from BER to \u001b[33mPMI\u001b[0m: \u001b[36mDeparture: 2024-06-21\u001b[0m, \u001b[35mReturn: 2024-06-23\u001b[0m\n",
      "Weekend Trip from BER to \u001b[33mPMI\u001b[0m: \u001b[36mDeparture: 2024-06-28\u001b[0m, \u001b[35mReturn: 2024-06-30\u001b[0m\n"
     ]
    },
    {
     "name": "stderr",
     "output_type": "stream",
     "text": []
    },
    {
     "name": "stdout",
     "output_type": "stream",
     "text": [
      "Weekend Trip from BER to \u001b[33mPMI\u001b[0m: \u001b[36mDeparture: 2024-07-05\u001b[0m, \u001b[35mReturn: 2024-07-07\u001b[0m\n",
      "Weekend Trip from BER to \u001b[33mPMI\u001b[0m: \u001b[36mDeparture: 2024-07-12\u001b[0m, \u001b[35mReturn: 2024-07-14\u001b[0m\n",
      "Weekend Trip from BER to \u001b[33mPMI\u001b[0m: \u001b[36mDeparture: 2024-07-19\u001b[0m, \u001b[35mReturn: 2024-07-21\u001b[0m\n"
     ]
    },
    {
     "name": "stderr",
     "output_type": "stream",
     "text": []
    },
    {
     "name": "stdout",
     "output_type": "stream",
     "text": [
      "Weekend Trip from BER to \u001b[33mPMI\u001b[0m: \u001b[36mDeparture: 2024-07-26\u001b[0m, \u001b[35mReturn: 2024-07-28\u001b[0m\n",
      "Weekend Trip from BER to \u001b[33mPMI\u001b[0m: \u001b[36mDeparture: 2024-08-02\u001b[0m, \u001b[35mReturn: 2024-08-04\u001b[0m\n",
      "Weekend Trip from BER to \u001b[33mPMI\u001b[0m: \u001b[36mDeparture: 2024-08-09\u001b[0m, \u001b[35mReturn: 2024-08-11\u001b[0m\n"
     ]
    },
    {
     "name": "stderr",
     "output_type": "stream",
     "text": [
      "Checking destinations:  63%|██████▎   | 17/27 [00:51<00:34,  3.43s/it]"
     ]
    },
    {
     "name": "stdout",
     "output_type": "stream",
     "text": [
      "Weekend Trip from BER to \u001b[33mPMI\u001b[0m: \u001b[36mDeparture: 2024-08-16\u001b[0m, \u001b[35mReturn: 2024-08-18\u001b[0m\n"
     ]
    },
    {
     "name": "stderr",
     "output_type": "stream",
     "text": []
    },
    {
     "name": "stdout",
     "output_type": "stream",
     "text": [
      "Weekend Trip from BER to \u001b[33mPMO\u001b[0m: \u001b[36mDeparture: 2024-03-29\u001b[0m, \u001b[35mReturn: 2024-03-31\u001b[0m\n",
      "Weekend Trip from BER to \u001b[33mPMO\u001b[0m: \u001b[36mDeparture: 2024-04-05\u001b[0m, \u001b[35mReturn: 2024-04-07\u001b[0m\n",
      "Weekend Trip from BER to \u001b[33mPMO\u001b[0m: \u001b[36mDeparture: 2024-04-12\u001b[0m, \u001b[35mReturn: 2024-04-14\u001b[0m\n"
     ]
    },
    {
     "name": "stderr",
     "output_type": "stream",
     "text": []
    },
    {
     "name": "stdout",
     "output_type": "stream",
     "text": [
      "Weekend Trip from BER to \u001b[33mPMO\u001b[0m: \u001b[36mDeparture: 2024-04-19\u001b[0m, \u001b[35mReturn: 2024-04-21\u001b[0m\n",
      "Weekend Trip from BER to \u001b[33mPMO\u001b[0m: \u001b[36mDeparture: 2024-04-26\u001b[0m, \u001b[35mReturn: 2024-04-28\u001b[0m\n"
     ]
    },
    {
     "name": "stderr",
     "output_type": "stream",
     "text": [
      "Checking destinations:  67%|██████▋   | 18/27 [00:54<00:28,  3.14s/it]"
     ]
    },
    {
     "name": "stdout",
     "output_type": "stream",
     "text": [
      "Weekend Trip from BER to \u001b[33mRAK\u001b[0m: \u001b[36mDeparture: 2024-03-01\u001b[0m, \u001b[35mReturn: 2024-03-03\u001b[0m\n",
      "Weekend Trip from BER to \u001b[33mRAK\u001b[0m: \u001b[36mDeparture: 2024-03-08\u001b[0m, \u001b[35mReturn: 2024-03-10\u001b[0m\n",
      "Weekend Trip from BER to \u001b[33mRAK\u001b[0m: \u001b[36mDeparture: 2024-03-15\u001b[0m, \u001b[35mReturn: 2024-03-17\u001b[0m\n"
     ]
    },
    {
     "name": "stderr",
     "output_type": "stream",
     "text": []
    },
    {
     "name": "stdout",
     "output_type": "stream",
     "text": [
      "Weekend Trip from BER to \u001b[33mRAK\u001b[0m: \u001b[36mDeparture: 2024-03-22\u001b[0m, \u001b[35mReturn: 2024-03-24\u001b[0m\n",
      "Weekend Trip from BER to \u001b[33mRAK\u001b[0m: \u001b[36mDeparture: 2024-03-29\u001b[0m, \u001b[35mReturn: 2024-03-31\u001b[0m\n"
     ]
    },
    {
     "name": "stderr",
     "output_type": "stream",
     "text": [
      "Checking destinations:  70%|███████   | 19/27 [00:56<00:23,  2.97s/it]"
     ]
    },
    {
     "name": "stdout",
     "output_type": "stream",
     "text": [
      "Weekend Trip from BER to \u001b[33mSKG\u001b[0m: \u001b[36mDeparture: 2024-03-01\u001b[0m, \u001b[35mReturn: 2024-03-03\u001b[0m\n",
      "Weekend Trip from BER to \u001b[33mSKG\u001b[0m: \u001b[36mDeparture: 2024-03-08\u001b[0m, \u001b[35mReturn: 2024-03-10\u001b[0m\n",
      "Weekend Trip from BER to \u001b[33mSKG\u001b[0m: \u001b[36mDeparture: 2024-03-15\u001b[0m, \u001b[35mReturn: 2024-03-17\u001b[0m\n"
     ]
    },
    {
     "name": "stderr",
     "output_type": "stream",
     "text": []
    },
    {
     "name": "stdout",
     "output_type": "stream",
     "text": [
      "Weekend Trip from BER to \u001b[33mSKG\u001b[0m: \u001b[36mDeparture: 2024-03-22\u001b[0m, \u001b[35mReturn: 2024-03-24\u001b[0m\n",
      "Weekend Trip from BER to \u001b[33mSKG\u001b[0m: \u001b[36mDeparture: 2024-03-29\u001b[0m, \u001b[35mReturn: 2024-03-31\u001b[0m\n"
     ]
    },
    {
     "name": "stderr",
     "output_type": "stream",
     "text": []
    },
    {
     "name": "stdout",
     "output_type": "stream",
     "text": [
      "Weekend Trip from BER to \u001b[33mSKG\u001b[0m: \u001b[36mDeparture: 2024-04-05\u001b[0m, \u001b[35mReturn: 2024-04-07\u001b[0m\n",
      "Weekend Trip from BER to \u001b[33mSKG\u001b[0m: \u001b[36mDeparture: 2024-04-12\u001b[0m, \u001b[35mReturn: 2024-04-14\u001b[0m\n"
     ]
    },
    {
     "name": "stderr",
     "output_type": "stream",
     "text": []
    },
    {
     "name": "stdout",
     "output_type": "stream",
     "text": [
      "Weekend Trip from BER to \u001b[33mSKG\u001b[0m: \u001b[36mDeparture: 2024-04-19\u001b[0m, \u001b[35mReturn: 2024-04-21\u001b[0m\n",
      "Weekend Trip from BER to \u001b[33mSKG\u001b[0m: \u001b[36mDeparture: 2024-04-26\u001b[0m, \u001b[35mReturn: 2024-04-28\u001b[0m\n"
     ]
    },
    {
     "name": "stderr",
     "output_type": "stream",
     "text": []
    },
    {
     "name": "stdout",
     "output_type": "stream",
     "text": [
      "Weekend Trip from BER to \u001b[33mSKG\u001b[0m: \u001b[36mDeparture: 2024-05-03\u001b[0m, \u001b[35mReturn: 2024-05-05\u001b[0m\n",
      "Weekend Trip from BER to \u001b[33mSKG\u001b[0m: \u001b[36mDeparture: 2024-05-10\u001b[0m, \u001b[35mReturn: 2024-05-12\u001b[0m\n"
     ]
    },
    {
     "name": "stderr",
     "output_type": "stream",
     "text": []
    },
    {
     "name": "stdout",
     "output_type": "stream",
     "text": [
      "Weekend Trip from BER to \u001b[33mSKG\u001b[0m: \u001b[36mDeparture: 2024-05-17\u001b[0m, \u001b[35mReturn: 2024-05-19\u001b[0m\n",
      "Weekend Trip from BER to \u001b[33mSKG\u001b[0m: \u001b[36mDeparture: 2024-05-24\u001b[0m, \u001b[35mReturn: 2024-05-26\u001b[0m\n",
      "Weekend Trip from BER to \u001b[33mSKG\u001b[0m: \u001b[36mDeparture: 2024-05-31\u001b[0m, \u001b[35mReturn: 2024-06-02\u001b[0m\n"
     ]
    },
    {
     "name": "stderr",
     "output_type": "stream",
     "text": []
    },
    {
     "name": "stdout",
     "output_type": "stream",
     "text": [
      "Weekend Trip from BER to \u001b[33mSKG\u001b[0m: \u001b[36mDeparture: 2024-06-07\u001b[0m, \u001b[35mReturn: 2024-06-09\u001b[0m\n",
      "Weekend Trip from BER to \u001b[33mSKG\u001b[0m: \u001b[36mDeparture: 2024-06-14\u001b[0m, \u001b[35mReturn: 2024-06-16\u001b[0m\n",
      "Weekend Trip from BER to \u001b[33mSKG\u001b[0m: \u001b[36mDeparture: 2024-06-21\u001b[0m, \u001b[35mReturn: 2024-06-23\u001b[0m\n"
     ]
    },
    {
     "name": "stderr",
     "output_type": "stream",
     "text": []
    },
    {
     "name": "stdout",
     "output_type": "stream",
     "text": [
      "Weekend Trip from BER to \u001b[33mSKG\u001b[0m: \u001b[36mDeparture: 2024-06-28\u001b[0m, \u001b[35mReturn: 2024-06-30\u001b[0m\n"
     ]
    },
    {
     "name": "stderr",
     "output_type": "stream",
     "text": []
    },
    {
     "name": "stdout",
     "output_type": "stream",
     "text": [
      "Weekend Trip from BER to \u001b[33mSKG\u001b[0m: \u001b[36mDeparture: 2024-07-05\u001b[0m, \u001b[35mReturn: 2024-07-07\u001b[0m\n",
      "Weekend Trip from BER to \u001b[33mSKG\u001b[0m: \u001b[36mDeparture: 2024-07-12\u001b[0m, \u001b[35mReturn: 2024-07-14\u001b[0m\n"
     ]
    },
    {
     "name": "stderr",
     "output_type": "stream",
     "text": []
    },
    {
     "name": "stdout",
     "output_type": "stream",
     "text": [
      "Weekend Trip from BER to \u001b[33mSKG\u001b[0m: \u001b[36mDeparture: 2024-07-19\u001b[0m, \u001b[35mReturn: 2024-07-21\u001b[0m\n",
      "Weekend Trip from BER to \u001b[33mSKG\u001b[0m: \u001b[36mDeparture: 2024-07-26\u001b[0m, \u001b[35mReturn: 2024-07-28\u001b[0m\n",
      "Weekend Trip from BER to \u001b[33mSKG\u001b[0m: \u001b[36mDeparture: 2024-08-02\u001b[0m, \u001b[35mReturn: 2024-08-04\u001b[0m\n"
     ]
    },
    {
     "name": "stderr",
     "output_type": "stream",
     "text": [
      "Checking destinations:  74%|███████▍  | 20/27 [00:59<00:20,  2.87s/it]"
     ]
    },
    {
     "name": "stdout",
     "output_type": "stream",
     "text": [
      "Weekend Trip from BER to \u001b[33mSKG\u001b[0m: \u001b[36mDeparture: 2024-08-09\u001b[0m, \u001b[35mReturn: 2024-08-11\u001b[0m\n",
      "Weekend Trip from BER to \u001b[33mSKG\u001b[0m: \u001b[36mDeparture: 2024-08-16\u001b[0m, \u001b[35mReturn: 2024-08-18\u001b[0m\n"
     ]
    },
    {
     "name": "stderr",
     "output_type": "stream",
     "text": []
    },
    {
     "name": "stdout",
     "output_type": "stream",
     "text": [
      "Weekend Trip from BER to \u001b[33mSOF\u001b[0m: \u001b[36mDeparture: 2024-03-01\u001b[0m, \u001b[35mReturn: 2024-03-03\u001b[0m\n"
     ]
    },
    {
     "name": "stderr",
     "output_type": "stream",
     "text": []
    },
    {
     "name": "stdout",
     "output_type": "stream",
     "text": [
      "Weekend Trip from BER to \u001b[33mSOF\u001b[0m: \u001b[36mDeparture: 2024-03-08\u001b[0m, \u001b[35mReturn: 2024-03-10\u001b[0m\n",
      "Weekend Trip from BER to \u001b[33mSOF\u001b[0m: \u001b[36mDeparture: 2024-03-15\u001b[0m, \u001b[35mReturn: 2024-03-17\u001b[0m\n"
     ]
    },
    {
     "name": "stderr",
     "output_type": "stream",
     "text": []
    },
    {
     "name": "stdout",
     "output_type": "stream",
     "text": [
      "Weekend Trip from BER to \u001b[33mSOF\u001b[0m: \u001b[36mDeparture: 2024-03-22\u001b[0m, \u001b[35mReturn: 2024-03-24\u001b[0m\n",
      "Weekend Trip from BER to \u001b[33mSOF\u001b[0m: \u001b[36mDeparture: 2024-03-29\u001b[0m, \u001b[35mReturn: 2024-03-31\u001b[0m\n"
     ]
    },
    {
     "name": "stderr",
     "output_type": "stream",
     "text": []
    },
    {
     "name": "stdout",
     "output_type": "stream",
     "text": [
      "Weekend Trip from BER to \u001b[33mSOF\u001b[0m: \u001b[36mDeparture: 2024-04-05\u001b[0m, \u001b[35mReturn: 2024-04-07\u001b[0m\n",
      "Weekend Trip from BER to \u001b[33mSOF\u001b[0m: \u001b[36mDeparture: 2024-04-12\u001b[0m, \u001b[35mReturn: 2024-04-14\u001b[0m\n"
     ]
    },
    {
     "name": "stderr",
     "output_type": "stream",
     "text": []
    },
    {
     "name": "stdout",
     "output_type": "stream",
     "text": [
      "Weekend Trip from BER to \u001b[33mSOF\u001b[0m: \u001b[36mDeparture: 2024-04-19\u001b[0m, \u001b[35mReturn: 2024-04-21\u001b[0m\n",
      "Weekend Trip from BER to \u001b[33mSOF\u001b[0m: \u001b[36mDeparture: 2024-04-26\u001b[0m, \u001b[35mReturn: 2024-04-28\u001b[0m\n",
      "Weekend Trip from BER to \u001b[33mSOF\u001b[0m: \u001b[36mDeparture: 2024-05-03\u001b[0m, \u001b[35mReturn: 2024-05-05\u001b[0m\n"
     ]
    },
    {
     "name": "stderr",
     "output_type": "stream",
     "text": []
    },
    {
     "name": "stdout",
     "output_type": "stream",
     "text": [
      "Weekend Trip from BER to \u001b[33mSOF\u001b[0m: \u001b[36mDeparture: 2024-05-10\u001b[0m, \u001b[35mReturn: 2024-05-12\u001b[0m\n",
      "Weekend Trip from BER to \u001b[33mSOF\u001b[0m: \u001b[36mDeparture: 2024-05-17\u001b[0m, \u001b[35mReturn: 2024-05-19\u001b[0m\n",
      "Weekend Trip from BER to \u001b[33mSOF\u001b[0m: \u001b[36mDeparture: 2024-05-24\u001b[0m, \u001b[35mReturn: 2024-05-26\u001b[0m\n"
     ]
    },
    {
     "name": "stderr",
     "output_type": "stream",
     "text": []
    },
    {
     "name": "stdout",
     "output_type": "stream",
     "text": [
      "Weekend Trip from BER to \u001b[33mSOF\u001b[0m: \u001b[36mDeparture: 2024-05-31\u001b[0m, \u001b[35mReturn: 2024-06-02\u001b[0m\n",
      "Weekend Trip from BER to \u001b[33mSOF\u001b[0m: \u001b[36mDeparture: 2024-06-07\u001b[0m, \u001b[35mReturn: 2024-06-09\u001b[0m\n"
     ]
    },
    {
     "name": "stderr",
     "output_type": "stream",
     "text": []
    },
    {
     "name": "stdout",
     "output_type": "stream",
     "text": [
      "Weekend Trip from BER to \u001b[33mSOF\u001b[0m: \u001b[36mDeparture: 2024-06-14\u001b[0m, \u001b[35mReturn: 2024-06-16\u001b[0m\n"
     ]
    },
    {
     "name": "stderr",
     "output_type": "stream",
     "text": []
    },
    {
     "name": "stdout",
     "output_type": "stream",
     "text": [
      "Weekend Trip from BER to \u001b[33mSOF\u001b[0m: \u001b[36mDeparture: 2024-06-21\u001b[0m, \u001b[35mReturn: 2024-06-23\u001b[0m\n",
      "Weekend Trip from BER to \u001b[33mSOF\u001b[0m: \u001b[36mDeparture: 2024-06-28\u001b[0m, \u001b[35mReturn: 2024-06-30\u001b[0m\n",
      "Weekend Trip from BER to \u001b[33mSOF\u001b[0m: \u001b[36mDeparture: 2024-07-05\u001b[0m, \u001b[35mReturn: 2024-07-07\u001b[0m\n"
     ]
    },
    {
     "name": "stderr",
     "output_type": "stream",
     "text": []
    },
    {
     "name": "stdout",
     "output_type": "stream",
     "text": [
      "Weekend Trip from BER to \u001b[33mSOF\u001b[0m: \u001b[36mDeparture: 2024-07-12\u001b[0m, \u001b[35mReturn: 2024-07-14\u001b[0m\n",
      "Weekend Trip from BER to \u001b[33mSOF\u001b[0m: \u001b[36mDeparture: 2024-07-19\u001b[0m, \u001b[35mReturn: 2024-07-21\u001b[0m\n"
     ]
    },
    {
     "name": "stderr",
     "output_type": "stream",
     "text": []
    },
    {
     "name": "stdout",
     "output_type": "stream",
     "text": [
      "Weekend Trip from BER to \u001b[33mSOF\u001b[0m: \u001b[36mDeparture: 2024-07-26\u001b[0m, \u001b[35mReturn: 2024-07-28\u001b[0m\n"
     ]
    },
    {
     "name": "stderr",
     "output_type": "stream",
     "text": []
    },
    {
     "name": "stdout",
     "output_type": "stream",
     "text": [
      "Weekend Trip from BER to \u001b[33mSOF\u001b[0m: \u001b[36mDeparture: 2024-08-02\u001b[0m, \u001b[35mReturn: 2024-08-04\u001b[0m\n",
      "Weekend Trip from BER to \u001b[33mSOF\u001b[0m: \u001b[36mDeparture: 2024-08-09\u001b[0m, \u001b[35mReturn: 2024-08-11\u001b[0m\n"
     ]
    },
    {
     "name": "stderr",
     "output_type": "stream",
     "text": [
      "Checking destinations:  78%|███████▊  | 21/27 [01:02<00:17,  2.97s/it]"
     ]
    },
    {
     "name": "stdout",
     "output_type": "stream",
     "text": [
      "Weekend Trip from BER to \u001b[33mSOF\u001b[0m: \u001b[36mDeparture: 2024-08-16\u001b[0m, \u001b[35mReturn: 2024-08-18\u001b[0m\n"
     ]
    },
    {
     "name": "stderr",
     "output_type": "stream",
     "text": []
    },
    {
     "name": "stdout",
     "output_type": "stream",
     "text": [
      "Weekend Trip from BER to \u001b[33mTGD\u001b[0m: \u001b[36mDeparture: 2024-03-29\u001b[0m, \u001b[35mReturn: 2024-03-31\u001b[0m\n"
     ]
    },
    {
     "name": "stderr",
     "output_type": "stream",
     "text": []
    },
    {
     "name": "stdout",
     "output_type": "stream",
     "text": [
      "Weekend Trip from BER to \u001b[33mTGD\u001b[0m: \u001b[36mDeparture: 2024-04-05\u001b[0m, \u001b[35mReturn: 2024-04-07\u001b[0m\n"
     ]
    },
    {
     "name": "stderr",
     "output_type": "stream",
     "text": []
    },
    {
     "name": "stdout",
     "output_type": "stream",
     "text": [
      "Weekend Trip from BER to \u001b[33mTGD\u001b[0m: \u001b[36mDeparture: 2024-04-12\u001b[0m, \u001b[35mReturn: 2024-04-14\u001b[0m\n",
      "Weekend Trip from BER to \u001b[33mTGD\u001b[0m: \u001b[36mDeparture: 2024-04-19\u001b[0m, \u001b[35mReturn: 2024-04-21\u001b[0m\n",
      "Weekend Trip from BER to \u001b[33mTGD\u001b[0m: \u001b[36mDeparture: 2024-04-26\u001b[0m, \u001b[35mReturn: 2024-04-28\u001b[0m\n"
     ]
    },
    {
     "name": "stderr",
     "output_type": "stream",
     "text": []
    },
    {
     "name": "stdout",
     "output_type": "stream",
     "text": [
      "Weekend Trip from BER to \u001b[33mTGD\u001b[0m: \u001b[36mDeparture: 2024-05-03\u001b[0m, \u001b[35mReturn: 2024-05-05\u001b[0m\n",
      "Weekend Trip from BER to \u001b[33mTGD\u001b[0m: \u001b[36mDeparture: 2024-05-10\u001b[0m, \u001b[35mReturn: 2024-05-12\u001b[0m\n"
     ]
    },
    {
     "name": "stderr",
     "output_type": "stream",
     "text": []
    },
    {
     "name": "stdout",
     "output_type": "stream",
     "text": [
      "Weekend Trip from BER to \u001b[33mTGD\u001b[0m: \u001b[36mDeparture: 2024-05-17\u001b[0m, \u001b[35mReturn: 2024-05-19\u001b[0m\n"
     ]
    },
    {
     "name": "stderr",
     "output_type": "stream",
     "text": []
    },
    {
     "name": "stdout",
     "output_type": "stream",
     "text": [
      "Weekend Trip from BER to \u001b[33mTGD\u001b[0m: \u001b[36mDeparture: 2024-05-24\u001b[0m, \u001b[35mReturn: 2024-05-26\u001b[0m\n",
      "Weekend Trip from BER to \u001b[33mTGD\u001b[0m: \u001b[36mDeparture: 2024-05-31\u001b[0m, \u001b[35mReturn: 2024-06-02\u001b[0m\n",
      "Weekend Trip from BER to \u001b[33mTGD\u001b[0m: \u001b[36mDeparture: 2024-06-07\u001b[0m, \u001b[35mReturn: 2024-06-09\u001b[0m\n"
     ]
    },
    {
     "name": "stderr",
     "output_type": "stream",
     "text": []
    },
    {
     "name": "stdout",
     "output_type": "stream",
     "text": [
      "Weekend Trip from BER to \u001b[33mTGD\u001b[0m: \u001b[36mDeparture: 2024-06-14\u001b[0m, \u001b[35mReturn: 2024-06-16\u001b[0m\n",
      "Weekend Trip from BER to \u001b[33mTGD\u001b[0m: \u001b[36mDeparture: 2024-06-21\u001b[0m, \u001b[35mReturn: 2024-06-23\u001b[0m\n",
      "Weekend Trip from BER to \u001b[33mTGD\u001b[0m: \u001b[36mDeparture: 2024-06-28\u001b[0m, \u001b[35mReturn: 2024-06-30\u001b[0m\n"
     ]
    },
    {
     "name": "stderr",
     "output_type": "stream",
     "text": []
    },
    {
     "name": "stdout",
     "output_type": "stream",
     "text": [
      "Weekend Trip from BER to \u001b[33mTGD\u001b[0m: \u001b[36mDeparture: 2024-07-05\u001b[0m, \u001b[35mReturn: 2024-07-07\u001b[0m\n",
      "Weekend Trip from BER to \u001b[33mTGD\u001b[0m: \u001b[36mDeparture: 2024-07-12\u001b[0m, \u001b[35mReturn: 2024-07-14\u001b[0m\n",
      "Weekend Trip from BER to \u001b[33mTGD\u001b[0m: \u001b[36mDeparture: 2024-07-19\u001b[0m, \u001b[35mReturn: 2024-07-21\u001b[0m\n"
     ]
    },
    {
     "name": "stderr",
     "output_type": "stream",
     "text": []
    },
    {
     "name": "stdout",
     "output_type": "stream",
     "text": [
      "Weekend Trip from BER to \u001b[33mTGD\u001b[0m: \u001b[36mDeparture: 2024-07-26\u001b[0m, \u001b[35mReturn: 2024-07-28\u001b[0m\n",
      "Weekend Trip from BER to \u001b[33mTGD\u001b[0m: \u001b[36mDeparture: 2024-08-02\u001b[0m, \u001b[35mReturn: 2024-08-04\u001b[0m\n",
      "Weekend Trip from BER to \u001b[33mTGD\u001b[0m: \u001b[36mDeparture: 2024-08-09\u001b[0m, \u001b[35mReturn: 2024-08-11\u001b[0m\n"
     ]
    },
    {
     "name": "stderr",
     "output_type": "stream",
     "text": [
      "Checking destinations:  81%|████████▏ | 22/27 [01:08<00:19,  3.92s/it]"
     ]
    },
    {
     "name": "stdout",
     "output_type": "stream",
     "text": [
      "Weekend Trip from BER to \u001b[33mTGD\u001b[0m: \u001b[36mDeparture: 2024-08-16\u001b[0m, \u001b[35mReturn: 2024-08-18\u001b[0m\n"
     ]
    },
    {
     "name": "stderr",
     "output_type": "stream",
     "text": []
    },
    {
     "name": "stdout",
     "output_type": "stream",
     "text": [
      "Weekend Trip from BER to \u001b[33mTLL\u001b[0m: \u001b[36mDeparture: 2024-03-01\u001b[0m, \u001b[35mReturn: 2024-03-03\u001b[0m\n",
      "Weekend Trip from BER to \u001b[33mTLL\u001b[0m: \u001b[36mDeparture: 2024-03-08\u001b[0m, \u001b[35mReturn: 2024-03-10\u001b[0m\n",
      "Weekend Trip from BER to \u001b[33mTLL\u001b[0m: \u001b[36mDeparture: 2024-03-15\u001b[0m, \u001b[35mReturn: 2024-03-17\u001b[0m\n"
     ]
    },
    {
     "name": "stderr",
     "output_type": "stream",
     "text": []
    },
    {
     "name": "stdout",
     "output_type": "stream",
     "text": [
      "Weekend Trip from BER to \u001b[33mTLL\u001b[0m: \u001b[36mDeparture: 2024-03-22\u001b[0m, \u001b[35mReturn: 2024-03-24\u001b[0m\n",
      "Weekend Trip from BER to \u001b[33mTLL\u001b[0m: \u001b[36mDeparture: 2024-03-29\u001b[0m, \u001b[35mReturn: 2024-03-31\u001b[0m\n"
     ]
    },
    {
     "name": "stderr",
     "output_type": "stream",
     "text": []
    },
    {
     "name": "stdout",
     "output_type": "stream",
     "text": [
      "Weekend Trip from BER to \u001b[33mTLL\u001b[0m: \u001b[36mDeparture: 2024-04-05\u001b[0m, \u001b[35mReturn: 2024-04-07\u001b[0m\n",
      "Weekend Trip from BER to \u001b[33mTLL\u001b[0m: \u001b[36mDeparture: 2024-04-12\u001b[0m, \u001b[35mReturn: 2024-04-14\u001b[0m\n",
      "Weekend Trip from BER to \u001b[33mTLL\u001b[0m: \u001b[36mDeparture: 2024-04-19\u001b[0m, \u001b[35mReturn: 2024-04-21\u001b[0m\n"
     ]
    },
    {
     "name": "stderr",
     "output_type": "stream",
     "text": []
    },
    {
     "name": "stdout",
     "output_type": "stream",
     "text": [
      "Weekend Trip from BER to \u001b[33mTLL\u001b[0m: \u001b[36mDeparture: 2024-04-26\u001b[0m, \u001b[35mReturn: 2024-04-28\u001b[0m\n",
      "Weekend Trip from BER to \u001b[33mTLL\u001b[0m: \u001b[36mDeparture: 2024-05-03\u001b[0m, \u001b[35mReturn: 2024-05-05\u001b[0m\n",
      "Weekend Trip from BER to \u001b[33mTLL\u001b[0m: \u001b[36mDeparture: 2024-05-10\u001b[0m, \u001b[35mReturn: 2024-05-12\u001b[0m\n"
     ]
    },
    {
     "name": "stderr",
     "output_type": "stream",
     "text": []
    },
    {
     "name": "stdout",
     "output_type": "stream",
     "text": [
      "Weekend Trip from BER to \u001b[33mTLL\u001b[0m: \u001b[36mDeparture: 2024-05-17\u001b[0m, \u001b[35mReturn: 2024-05-19\u001b[0m\n",
      "Weekend Trip from BER to \u001b[33mTLL\u001b[0m: \u001b[36mDeparture: 2024-05-24\u001b[0m, \u001b[35mReturn: 2024-05-26\u001b[0m\n",
      "Weekend Trip from BER to \u001b[33mTLL\u001b[0m: \u001b[36mDeparture: 2024-05-31\u001b[0m, \u001b[35mReturn: 2024-06-02\u001b[0m\n"
     ]
    },
    {
     "name": "stderr",
     "output_type": "stream",
     "text": []
    },
    {
     "name": "stdout",
     "output_type": "stream",
     "text": [
      "Weekend Trip from BER to \u001b[33mTLL\u001b[0m: \u001b[36mDeparture: 2024-06-07\u001b[0m, \u001b[35mReturn: 2024-06-09\u001b[0m\n",
      "Weekend Trip from BER to \u001b[33mTLL\u001b[0m: \u001b[36mDeparture: 2024-06-14\u001b[0m, \u001b[35mReturn: 2024-06-16\u001b[0m\n"
     ]
    },
    {
     "name": "stderr",
     "output_type": "stream",
     "text": []
    },
    {
     "name": "stdout",
     "output_type": "stream",
     "text": [
      "Weekend Trip from BER to \u001b[33mTLL\u001b[0m: \u001b[36mDeparture: 2024-06-21\u001b[0m, \u001b[35mReturn: 2024-06-23\u001b[0m\n",
      "Weekend Trip from BER to \u001b[33mTLL\u001b[0m: \u001b[36mDeparture: 2024-06-28\u001b[0m, \u001b[35mReturn: 2024-06-30\u001b[0m\n",
      "Weekend Trip from BER to \u001b[33mTLL\u001b[0m: \u001b[36mDeparture: 2024-07-05\u001b[0m, \u001b[35mReturn: 2024-07-07\u001b[0m\n"
     ]
    },
    {
     "name": "stderr",
     "output_type": "stream",
     "text": []
    },
    {
     "name": "stdout",
     "output_type": "stream",
     "text": [
      "Weekend Trip from BER to \u001b[33mTLL\u001b[0m: \u001b[36mDeparture: 2024-07-12\u001b[0m, \u001b[35mReturn: 2024-07-14\u001b[0m\n",
      "Weekend Trip from BER to \u001b[33mTLL\u001b[0m: \u001b[36mDeparture: 2024-07-19\u001b[0m, \u001b[35mReturn: 2024-07-21\u001b[0m\n"
     ]
    },
    {
     "name": "stderr",
     "output_type": "stream",
     "text": []
    },
    {
     "name": "stdout",
     "output_type": "stream",
     "text": [
      "Weekend Trip from BER to \u001b[33mTLL\u001b[0m: \u001b[36mDeparture: 2024-07-26\u001b[0m, \u001b[35mReturn: 2024-07-28\u001b[0m\n",
      "Weekend Trip from BER to \u001b[33mTLL\u001b[0m: \u001b[36mDeparture: 2024-08-02\u001b[0m, \u001b[35mReturn: 2024-08-04\u001b[0m\n"
     ]
    },
    {
     "name": "stderr",
     "output_type": "stream",
     "text": [
      "Checking destinations:  85%|████████▌ | 23/27 [01:11<00:13,  3.45s/it]"
     ]
    },
    {
     "name": "stdout",
     "output_type": "stream",
     "text": [
      "Weekend Trip from BER to \u001b[33mTLL\u001b[0m: \u001b[36mDeparture: 2024-08-09\u001b[0m, \u001b[35mReturn: 2024-08-11\u001b[0m\n",
      "Weekend Trip from BER to \u001b[33mTLL\u001b[0m: \u001b[36mDeparture: 2024-08-16\u001b[0m, \u001b[35mReturn: 2024-08-18\u001b[0m\n"
     ]
    },
    {
     "name": "stderr",
     "output_type": "stream",
     "text": []
    },
    {
     "name": "stdout",
     "output_type": "stream",
     "text": [
      "Weekend Trip from BER to \u001b[33mTLV\u001b[0m: \u001b[36mDeparture: 2024-05-03\u001b[0m, \u001b[35mReturn: 2024-05-05\u001b[0m\n",
      "Weekend Trip from BER to \u001b[33mTLV\u001b[0m: \u001b[36mDeparture: 2024-05-10\u001b[0m, \u001b[35mReturn: 2024-05-12\u001b[0m\n",
      "Weekend Trip from BER to \u001b[33mTLV\u001b[0m: \u001b[36mDeparture: 2024-05-17\u001b[0m, \u001b[35mReturn: 2024-05-19\u001b[0m\n"
     ]
    },
    {
     "name": "stderr",
     "output_type": "stream",
     "text": []
    },
    {
     "name": "stdout",
     "output_type": "stream",
     "text": [
      "Weekend Trip from BER to \u001b[33mTLV\u001b[0m: \u001b[36mDeparture: 2024-05-24\u001b[0m, \u001b[35mReturn: 2024-05-26\u001b[0m\n",
      "Weekend Trip from BER to \u001b[33mTLV\u001b[0m: \u001b[36mDeparture: 2024-05-31\u001b[0m, \u001b[35mReturn: 2024-06-02\u001b[0m\n",
      "Weekend Trip from BER to \u001b[33mTLV\u001b[0m: \u001b[36mDeparture: 2024-06-07\u001b[0m, \u001b[35mReturn: 2024-06-09\u001b[0m\n"
     ]
    },
    {
     "name": "stderr",
     "output_type": "stream",
     "text": []
    },
    {
     "name": "stdout",
     "output_type": "stream",
     "text": [
      "Weekend Trip from BER to \u001b[33mTLV\u001b[0m: \u001b[36mDeparture: 2024-06-14\u001b[0m, \u001b[35mReturn: 2024-06-16\u001b[0m\n",
      "Weekend Trip from BER to \u001b[33mTLV\u001b[0m: \u001b[36mDeparture: 2024-06-21\u001b[0m, \u001b[35mReturn: 2024-06-23\u001b[0m\n",
      "Weekend Trip from BER to \u001b[33mTLV\u001b[0m: \u001b[36mDeparture: 2024-06-28\u001b[0m, \u001b[35mReturn: 2024-06-30\u001b[0m\n"
     ]
    },
    {
     "name": "stderr",
     "output_type": "stream",
     "text": []
    },
    {
     "name": "stdout",
     "output_type": "stream",
     "text": [
      "Weekend Trip from BER to \u001b[33mTLV\u001b[0m: \u001b[36mDeparture: 2024-07-05\u001b[0m, \u001b[35mReturn: 2024-07-07\u001b[0m\n",
      "Weekend Trip from BER to \u001b[33mTLV\u001b[0m: \u001b[36mDeparture: 2024-07-12\u001b[0m, \u001b[35mReturn: 2024-07-14\u001b[0m\n",
      "Weekend Trip from BER to \u001b[33mTLV\u001b[0m: \u001b[36mDeparture: 2024-07-19\u001b[0m, \u001b[35mReturn: 2024-07-21\u001b[0m\n"
     ]
    },
    {
     "name": "stderr",
     "output_type": "stream",
     "text": []
    },
    {
     "name": "stdout",
     "output_type": "stream",
     "text": [
      "Weekend Trip from BER to \u001b[33mTLV\u001b[0m: \u001b[36mDeparture: 2024-07-26\u001b[0m, \u001b[35mReturn: 2024-07-28\u001b[0m\n",
      "Weekend Trip from BER to \u001b[33mTLV\u001b[0m: \u001b[36mDeparture: 2024-08-02\u001b[0m, \u001b[35mReturn: 2024-08-04\u001b[0m\n"
     ]
    },
    {
     "name": "stderr",
     "output_type": "stream",
     "text": [
      "Checking destinations:  89%|████████▉ | 24/27 [01:13<00:09,  3.09s/it]"
     ]
    },
    {
     "name": "stdout",
     "output_type": "stream",
     "text": [
      "Weekend Trip from BER to \u001b[33mTLV\u001b[0m: \u001b[36mDeparture: 2024-08-09\u001b[0m, \u001b[35mReturn: 2024-08-11\u001b[0m\n",
      "Weekend Trip from BER to \u001b[33mTLV\u001b[0m: \u001b[36mDeparture: 2024-08-16\u001b[0m, \u001b[35mReturn: 2024-08-18\u001b[0m\n"
     ]
    },
    {
     "name": "stderr",
     "output_type": "stream",
     "text": []
    },
    {
     "name": "stdout",
     "output_type": "stream",
     "text": [
      "Weekend Trip from BER to \u001b[33mVCE\u001b[0m: \u001b[36mDeparture: 2024-03-01\u001b[0m, \u001b[35mReturn: 2024-03-03\u001b[0m\n"
     ]
    },
    {
     "name": "stderr",
     "output_type": "stream",
     "text": []
    },
    {
     "name": "stdout",
     "output_type": "stream",
     "text": [
      "Weekend Trip from BER to \u001b[33mVCE\u001b[0m: \u001b[36mDeparture: 2024-03-08\u001b[0m, \u001b[35mReturn: 2024-03-10\u001b[0m\n",
      "Weekend Trip from BER to \u001b[33mVCE\u001b[0m: \u001b[36mDeparture: 2024-03-15\u001b[0m, \u001b[35mReturn: 2024-03-17\u001b[0m\n",
      "Weekend Trip from BER to \u001b[33mVCE\u001b[0m: \u001b[36mDeparture: 2024-03-22\u001b[0m, \u001b[35mReturn: 2024-03-24\u001b[0m\n"
     ]
    },
    {
     "name": "stderr",
     "output_type": "stream",
     "text": []
    },
    {
     "name": "stdout",
     "output_type": "stream",
     "text": [
      "Weekend Trip from BER to \u001b[33mVCE\u001b[0m: \u001b[36mDeparture: 2024-03-29\u001b[0m, \u001b[35mReturn: 2024-03-31\u001b[0m\n"
     ]
    },
    {
     "name": "stderr",
     "output_type": "stream",
     "text": []
    },
    {
     "name": "stdout",
     "output_type": "stream",
     "text": [
      "Weekend Trip from BER to \u001b[33mVCE\u001b[0m: \u001b[36mDeparture: 2024-04-05\u001b[0m, \u001b[35mReturn: 2024-04-07\u001b[0m\n",
      "Weekend Trip from BER to \u001b[33mVCE\u001b[0m: \u001b[36mDeparture: 2024-04-12\u001b[0m, \u001b[35mReturn: 2024-04-14\u001b[0m\n",
      "Weekend Trip from BER to \u001b[33mVCE\u001b[0m: \u001b[36mDeparture: 2024-04-19\u001b[0m, \u001b[35mReturn: 2024-04-21\u001b[0m\n"
     ]
    },
    {
     "name": "stderr",
     "output_type": "stream",
     "text": []
    },
    {
     "name": "stdout",
     "output_type": "stream",
     "text": [
      "Weekend Trip from BER to \u001b[33mVCE\u001b[0m: \u001b[36mDeparture: 2024-04-26\u001b[0m, \u001b[35mReturn: 2024-04-28\u001b[0m\n",
      "Weekend Trip from BER to \u001b[33mVCE\u001b[0m: \u001b[36mDeparture: 2024-05-03\u001b[0m, \u001b[35mReturn: 2024-05-05\u001b[0m\n"
     ]
    },
    {
     "name": "stderr",
     "output_type": "stream",
     "text": []
    },
    {
     "name": "stdout",
     "output_type": "stream",
     "text": [
      "Weekend Trip from BER to \u001b[33mVCE\u001b[0m: \u001b[36mDeparture: 2024-05-10\u001b[0m, \u001b[35mReturn: 2024-05-12\u001b[0m\n",
      "Weekend Trip from BER to \u001b[33mVCE\u001b[0m: \u001b[36mDeparture: 2024-05-17\u001b[0m, \u001b[35mReturn: 2024-05-19\u001b[0m\n"
     ]
    },
    {
     "name": "stderr",
     "output_type": "stream",
     "text": [
      "\n"
     ]
    },
    {
     "name": "stdout",
     "output_type": "stream",
     "text": [
      "Weekend Trip from BER to \u001b[33mVCE\u001b[0m: \u001b[36mDeparture: 2024-05-24\u001b[0m, \u001b[35mReturn: 2024-05-26\u001b[0m\n"
     ]
    },
    {
     "name": "stderr",
     "output_type": "stream",
     "text": [
      "Flights to VCE:  52%|█████▏    | 13/25 [00:01<00:01, 10.10it/s]\u001b[A"
     ]
    },
    {
     "name": "stdout",
     "output_type": "stream",
     "text": [
      "Weekend Trip from BER to \u001b[33mVCE\u001b[0m: \u001b[36mDeparture: 2024-05-31\u001b[0m, \u001b[35mReturn: 2024-06-02\u001b[0m\n",
      "Weekend Trip from BER to \u001b[33mVCE\u001b[0m: \u001b[36mDeparture: 2024-06-07\u001b[0m, \u001b[35mReturn: 2024-06-09\u001b[0m\n"
     ]
    },
    {
     "name": "stderr",
     "output_type": "stream",
     "text": []
    },
    {
     "name": "stdout",
     "output_type": "stream",
     "text": [
      "Weekend Trip from BER to \u001b[33mVCE\u001b[0m: \u001b[36mDeparture: 2024-06-14\u001b[0m, \u001b[35mReturn: 2024-06-16\u001b[0m\n",
      "Weekend Trip from BER to \u001b[33mVCE\u001b[0m: \u001b[36mDeparture: 2024-06-21\u001b[0m, \u001b[35mReturn: 2024-06-23\u001b[0m\n"
     ]
    },
    {
     "name": "stderr",
     "output_type": "stream",
     "text": []
    },
    {
     "name": "stdout",
     "output_type": "stream",
     "text": [
      "Weekend Trip from BER to \u001b[33mVCE\u001b[0m: \u001b[36mDeparture: 2024-06-28\u001b[0m, \u001b[35mReturn: 2024-06-30\u001b[0m\n"
     ]
    },
    {
     "name": "stderr",
     "output_type": "stream",
     "text": []
    },
    {
     "name": "stdout",
     "output_type": "stream",
     "text": [
      "Weekend Trip from BER to \u001b[33mVCE\u001b[0m: \u001b[36mDeparture: 2024-07-05\u001b[0m, \u001b[35mReturn: 2024-07-07\u001b[0m\n"
     ]
    },
    {
     "name": "stderr",
     "output_type": "stream",
     "text": []
    },
    {
     "name": "stdout",
     "output_type": "stream",
     "text": [
      "Weekend Trip from BER to \u001b[33mVCE\u001b[0m: \u001b[36mDeparture: 2024-07-12\u001b[0m, \u001b[35mReturn: 2024-07-14\u001b[0m\n",
      "Weekend Trip from BER to \u001b[33mVCE\u001b[0m: \u001b[36mDeparture: 2024-07-19\u001b[0m, \u001b[35mReturn: 2024-07-21\u001b[0m\n",
      "Weekend Trip from BER to \u001b[33mVCE\u001b[0m: \u001b[36mDeparture: 2024-07-26\u001b[0m, \u001b[35mReturn: 2024-07-28\u001b[0m\n"
     ]
    },
    {
     "name": "stderr",
     "output_type": "stream",
     "text": [
      "Checking destinations:  93%|█████████▎| 25/27 [01:15<00:05,  2.93s/it]"
     ]
    },
    {
     "name": "stdout",
     "output_type": "stream",
     "text": [
      "Weekend Trip from BER to \u001b[33mVCE\u001b[0m: \u001b[36mDeparture: 2024-08-02\u001b[0m, \u001b[35mReturn: 2024-08-04\u001b[0m\n",
      "Weekend Trip from BER to \u001b[33mVCE\u001b[0m: \u001b[36mDeparture: 2024-08-09\u001b[0m, \u001b[35mReturn: 2024-08-11\u001b[0m\n",
      "Weekend Trip from BER to \u001b[33mVCE\u001b[0m: \u001b[36mDeparture: 2024-08-16\u001b[0m, \u001b[35mReturn: 2024-08-18\u001b[0m\n"
     ]
    },
    {
     "name": "stderr",
     "output_type": "stream",
     "text": []
    },
    {
     "name": "stdout",
     "output_type": "stream",
     "text": [
      "Weekend Trip from BER to \u001b[33mVLC\u001b[0m: \u001b[36mDeparture: 2024-03-01\u001b[0m, \u001b[35mReturn: 2024-03-03\u001b[0m\n",
      "Weekend Trip from BER to \u001b[33mVLC\u001b[0m: \u001b[36mDeparture: 2024-03-08\u001b[0m, \u001b[35mReturn: 2024-03-10\u001b[0m\n",
      "Weekend Trip from BER to \u001b[33mVLC\u001b[0m: \u001b[36mDeparture: 2024-03-15\u001b[0m, \u001b[35mReturn: 2024-03-17\u001b[0m\n"
     ]
    },
    {
     "name": "stderr",
     "output_type": "stream",
     "text": []
    },
    {
     "name": "stdout",
     "output_type": "stream",
     "text": [
      "Weekend Trip from BER to \u001b[33mVLC\u001b[0m: \u001b[36mDeparture: 2024-03-22\u001b[0m, \u001b[35mReturn: 2024-03-24\u001b[0m\n",
      "Weekend Trip from BER to \u001b[33mVLC\u001b[0m: \u001b[36mDeparture: 2024-03-29\u001b[0m, \u001b[35mReturn: 2024-03-31\u001b[0m\n"
     ]
    },
    {
     "name": "stderr",
     "output_type": "stream",
     "text": []
    },
    {
     "name": "stdout",
     "output_type": "stream",
     "text": [
      "Weekend Trip from BER to \u001b[33mVLC\u001b[0m: \u001b[36mDeparture: 2024-04-05\u001b[0m, \u001b[35mReturn: 2024-04-07\u001b[0m\n",
      "Weekend Trip from BER to \u001b[33mVLC\u001b[0m: \u001b[36mDeparture: 2024-04-12\u001b[0m, \u001b[35mReturn: 2024-04-14\u001b[0m\n"
     ]
    },
    {
     "name": "stderr",
     "output_type": "stream",
     "text": []
    },
    {
     "name": "stdout",
     "output_type": "stream",
     "text": [
      "Weekend Trip from BER to \u001b[33mVLC\u001b[0m: \u001b[36mDeparture: 2024-04-19\u001b[0m, \u001b[35mReturn: 2024-04-21\u001b[0m\n",
      "Weekend Trip from BER to \u001b[33mVLC\u001b[0m: \u001b[36mDeparture: 2024-04-26\u001b[0m, \u001b[35mReturn: 2024-04-28\u001b[0m\n"
     ]
    },
    {
     "name": "stderr",
     "output_type": "stream",
     "text": []
    },
    {
     "name": "stdout",
     "output_type": "stream",
     "text": [
      "Weekend Trip from BER to \u001b[33mVLC\u001b[0m: \u001b[36mDeparture: 2024-05-03\u001b[0m, \u001b[35mReturn: 2024-05-05\u001b[0m\n",
      "Weekend Trip from BER to \u001b[33mVLC\u001b[0m: \u001b[36mDeparture: 2024-05-10\u001b[0m, \u001b[35mReturn: 2024-05-12\u001b[0m\n",
      "Weekend Trip from BER to \u001b[33mVLC\u001b[0m: \u001b[36mDeparture: 2024-05-17\u001b[0m, \u001b[35mReturn: 2024-05-19\u001b[0m\n"
     ]
    },
    {
     "name": "stderr",
     "output_type": "stream",
     "text": []
    },
    {
     "name": "stdout",
     "output_type": "stream",
     "text": [
      "Weekend Trip from BER to \u001b[33mVLC\u001b[0m: \u001b[36mDeparture: 2024-05-24\u001b[0m, \u001b[35mReturn: 2024-05-26\u001b[0m\n",
      "Weekend Trip from BER to \u001b[33mVLC\u001b[0m: \u001b[36mDeparture: 2024-05-31\u001b[0m, \u001b[35mReturn: 2024-06-02\u001b[0m\n"
     ]
    },
    {
     "name": "stderr",
     "output_type": "stream",
     "text": []
    },
    {
     "name": "stdout",
     "output_type": "stream",
     "text": [
      "Weekend Trip from BER to \u001b[33mVLC\u001b[0m: \u001b[36mDeparture: 2024-06-07\u001b[0m, \u001b[35mReturn: 2024-06-09\u001b[0m\n",
      "Weekend Trip from BER to \u001b[33mVLC\u001b[0m: \u001b[36mDeparture: 2024-06-14\u001b[0m, \u001b[35mReturn: 2024-06-16\u001b[0m\n",
      "Weekend Trip from BER to \u001b[33mVLC\u001b[0m: \u001b[36mDeparture: 2024-06-21\u001b[0m, \u001b[35mReturn: 2024-06-23\u001b[0m\n"
     ]
    },
    {
     "name": "stderr",
     "output_type": "stream",
     "text": []
    },
    {
     "name": "stdout",
     "output_type": "stream",
     "text": [
      "Weekend Trip from BER to \u001b[33mVLC\u001b[0m: \u001b[36mDeparture: 2024-06-28\u001b[0m, \u001b[35mReturn: 2024-06-30\u001b[0m\n",
      "Weekend Trip from BER to \u001b[33mVLC\u001b[0m: \u001b[36mDeparture: 2024-07-05\u001b[0m, \u001b[35mReturn: 2024-07-07\u001b[0m\n",
      "Weekend Trip from BER to \u001b[33mVLC\u001b[0m: \u001b[36mDeparture: 2024-07-12\u001b[0m, \u001b[35mReturn: 2024-07-14\u001b[0m\n"
     ]
    },
    {
     "name": "stderr",
     "output_type": "stream",
     "text": []
    },
    {
     "name": "stdout",
     "output_type": "stream",
     "text": [
      "Weekend Trip from BER to \u001b[33mVLC\u001b[0m: \u001b[36mDeparture: 2024-07-19\u001b[0m, \u001b[35mReturn: 2024-07-21\u001b[0m\n",
      "Weekend Trip from BER to \u001b[33mVLC\u001b[0m: \u001b[36mDeparture: 2024-07-26\u001b[0m, \u001b[35mReturn: 2024-07-28\u001b[0m\n",
      "Weekend Trip from BER to \u001b[33mVLC\u001b[0m: \u001b[36mDeparture: 2024-08-02\u001b[0m, \u001b[35mReturn: 2024-08-04\u001b[0m\n"
     ]
    },
    {
     "name": "stderr",
     "output_type": "stream",
     "text": [
      "Checking destinations:  96%|█████████▋| 26/27 [01:18<00:02,  2.75s/it]"
     ]
    },
    {
     "name": "stdout",
     "output_type": "stream",
     "text": [
      "Weekend Trip from BER to \u001b[33mVLC\u001b[0m: \u001b[36mDeparture: 2024-08-09\u001b[0m, \u001b[35mReturn: 2024-08-11\u001b[0m\n",
      "Weekend Trip from BER to \u001b[33mVLC\u001b[0m: \u001b[36mDeparture: 2024-08-16\u001b[0m, \u001b[35mReturn: 2024-08-18\u001b[0m\n"
     ]
    },
    {
     "name": "stderr",
     "output_type": "stream",
     "text": []
    },
    {
     "name": "stdout",
     "output_type": "stream",
     "text": [
      "Weekend Trip from BER to \u001b[33mVNO\u001b[0m: \u001b[36mDeparture: 2024-03-01\u001b[0m, \u001b[35mReturn: 2024-03-03\u001b[0m\n"
     ]
    },
    {
     "name": "stderr",
     "output_type": "stream",
     "text": []
    },
    {
     "name": "stdout",
     "output_type": "stream",
     "text": [
      "Weekend Trip from BER to \u001b[33mVNO\u001b[0m: \u001b[36mDeparture: 2024-03-08\u001b[0m, \u001b[35mReturn: 2024-03-10\u001b[0m\n",
      "Weekend Trip from BER to \u001b[33mVNO\u001b[0m: \u001b[36mDeparture: 2024-03-15\u001b[0m, \u001b[35mReturn: 2024-03-17\u001b[0m\n"
     ]
    },
    {
     "name": "stderr",
     "output_type": "stream",
     "text": []
    },
    {
     "name": "stdout",
     "output_type": "stream",
     "text": [
      "Weekend Trip from BER to \u001b[33mVNO\u001b[0m: \u001b[36mDeparture: 2024-03-22\u001b[0m, \u001b[35mReturn: 2024-03-24\u001b[0m\n"
     ]
    },
    {
     "name": "stderr",
     "output_type": "stream",
     "text": []
    },
    {
     "name": "stdout",
     "output_type": "stream",
     "text": [
      "Weekend Trip from BER to \u001b[33mVNO\u001b[0m: \u001b[36mDeparture: 2024-04-05\u001b[0m, \u001b[35mReturn: 2024-04-07\u001b[0m\n",
      "Weekend Trip from BER to \u001b[33mVNO\u001b[0m: \u001b[36mDeparture: 2024-04-12\u001b[0m, \u001b[35mReturn: 2024-04-14\u001b[0m\n",
      "Weekend Trip from BER to \u001b[33mVNO\u001b[0m: \u001b[36mDeparture: 2024-04-19\u001b[0m, \u001b[35mReturn: 2024-04-21\u001b[0m\n"
     ]
    },
    {
     "name": "stderr",
     "output_type": "stream",
     "text": []
    },
    {
     "name": "stdout",
     "output_type": "stream",
     "text": [
      "Weekend Trip from BER to \u001b[33mVNO\u001b[0m: \u001b[36mDeparture: 2024-04-26\u001b[0m, \u001b[35mReturn: 2024-04-28\u001b[0m\n",
      "Weekend Trip from BER to \u001b[33mVNO\u001b[0m: \u001b[36mDeparture: 2024-05-03\u001b[0m, \u001b[35mReturn: 2024-05-05\u001b[0m\n",
      "Weekend Trip from BER to \u001b[33mVNO\u001b[0m: \u001b[36mDeparture: 2024-05-10\u001b[0m, \u001b[35mReturn: 2024-05-12\u001b[0m\n"
     ]
    },
    {
     "name": "stderr",
     "output_type": "stream",
     "text": []
    },
    {
     "name": "stdout",
     "output_type": "stream",
     "text": [
      "Weekend Trip from BER to \u001b[33mVNO\u001b[0m: \u001b[36mDeparture: 2024-05-17\u001b[0m, \u001b[35mReturn: 2024-05-19\u001b[0m\n",
      "Weekend Trip from BER to \u001b[33mVNO\u001b[0m: \u001b[36mDeparture: 2024-05-24\u001b[0m, \u001b[35mReturn: 2024-05-26\u001b[0m\n",
      "Weekend Trip from BER to \u001b[33mVNO\u001b[0m: \u001b[36mDeparture: 2024-05-31\u001b[0m, \u001b[35mReturn: 2024-06-02\u001b[0m\n"
     ]
    },
    {
     "name": "stderr",
     "output_type": "stream",
     "text": []
    },
    {
     "name": "stdout",
     "output_type": "stream",
     "text": [
      "Weekend Trip from BER to \u001b[33mVNO\u001b[0m: \u001b[36mDeparture: 2024-06-07\u001b[0m, \u001b[35mReturn: 2024-06-09\u001b[0m\n",
      "Weekend Trip from BER to \u001b[33mVNO\u001b[0m: \u001b[36mDeparture: 2024-06-14\u001b[0m, \u001b[35mReturn: 2024-06-16\u001b[0m\n",
      "Weekend Trip from BER to \u001b[33mVNO\u001b[0m: \u001b[36mDeparture: 2024-06-21\u001b[0m, \u001b[35mReturn: 2024-06-23\u001b[0m\n"
     ]
    },
    {
     "name": "stderr",
     "output_type": "stream",
     "text": []
    },
    {
     "name": "stdout",
     "output_type": "stream",
     "text": [
      "Weekend Trip from BER to \u001b[33mVNO\u001b[0m: \u001b[36mDeparture: 2024-06-28\u001b[0m, \u001b[35mReturn: 2024-06-30\u001b[0m\n",
      "Weekend Trip from BER to \u001b[33mVNO\u001b[0m: \u001b[36mDeparture: 2024-07-05\u001b[0m, \u001b[35mReturn: 2024-07-07\u001b[0m\n",
      "Weekend Trip from BER to \u001b[33mVNO\u001b[0m: \u001b[36mDeparture: 2024-07-12\u001b[0m, \u001b[35mReturn: 2024-07-14\u001b[0m\n"
     ]
    },
    {
     "name": "stderr",
     "output_type": "stream",
     "text": []
    },
    {
     "name": "stdout",
     "output_type": "stream",
     "text": [
      "Weekend Trip from BER to \u001b[33mVNO\u001b[0m: \u001b[36mDeparture: 2024-07-19\u001b[0m, \u001b[35mReturn: 2024-07-21\u001b[0m\n",
      "Weekend Trip from BER to \u001b[33mVNO\u001b[0m: \u001b[36mDeparture: 2024-07-26\u001b[0m, \u001b[35mReturn: 2024-07-28\u001b[0m\n",
      "Weekend Trip from BER to \u001b[33mVNO\u001b[0m: \u001b[36mDeparture: 2024-08-02\u001b[0m, \u001b[35mReturn: 2024-08-04\u001b[0m\n"
     ]
    },
    {
     "name": "stderr",
     "output_type": "stream",
     "text": [
      "Checking destinations: 100%|██████████| 27/27 [01:20<00:00,  2.98s/it]"
     ]
    },
    {
     "name": "stdout",
     "output_type": "stream",
     "text": [
      "Weekend Trip from BER to \u001b[33mVNO\u001b[0m: \u001b[36mDeparture: 2024-08-09\u001b[0m, \u001b[35mReturn: 2024-08-11\u001b[0m\n",
      "Weekend Trip from BER to \u001b[33mVNO\u001b[0m: \u001b[36mDeparture: 2024-08-16\u001b[0m, \u001b[35mReturn: 2024-08-18\u001b[0m\n",
      "Data saved to flights_data.json\n"
     ]
    },
    {
     "name": "stderr",
     "output_type": "stream",
     "text": [
      "\n"
     ]
    }
   ],
   "source": [
    "\n",
    "\n",
    "# Call the function and store the results\n",
    "flights_data = get_and_store_flight_data(weekend_trip_combinations, allDestinationAirports)\n",
    "\n",
    "print(\"Data saved to flights_data.json\")"
   ]
  },
  {
   "cell_type": "code",
   "execution_count": 64,
   "metadata": {},
   "outputs": [
    {
     "name": "stdout",
     "output_type": "stream",
     "text": [
      "['BLQ', 'BRI', 'BRU', 'BUD', 'CFU', 'CTA', 'DUB', 'EDI', 'EMA', 'LPA', 'LUX', 'MAD', 'MAN', 'MRS', 'OPO', 'OTP', 'PMI', 'PMO', 'RAK', 'SKG', 'SOF', 'TGD', 'TLL', 'TLV', 'VCE', 'VLC', 'VNO']\n"
     ]
    }
   ],
   "source": [
    "destinationKeys = list(flights_data.keys())\n",
    "print(destinationKeys)\n",
    "\n",
    "\n"
   ]
  },
  {
   "cell_type": "code",
   "execution_count": 68,
   "metadata": {},
   "outputs": [
    {
     "data": {
      "text/plain": [
       "<firebase_admin.App at 0x7f6b64105b80>"
      ]
     },
     "execution_count": 68,
     "metadata": {},
     "output_type": "execute_result"
    }
   ],
   "source": [
    "cred = credentials.Certificate('/home/rene/Downloads/ryanair-4cd15-firebase-adminsdk-kdyqz-85041d7186.json')\n",
    "firebase_admin.initialize_app(cred)"
   ]
  },
  {
   "cell_type": "code",
   "execution_count": 69,
   "metadata": {},
   "outputs": [],
   "source": [
    "db = firestore.client()\n"
   ]
  },
  {
   "cell_type": "code",
   "execution_count": 70,
   "metadata": {},
   "outputs": [
    {
     "name": "stdout",
     "output_type": "stream",
     "text": [
      "'Added flight to BLQ to the database'\n",
      "'Added flight to BLQ to the database'\n",
      "'Added flight to BLQ to the database'\n",
      "'Added flight to BLQ to the database'\n",
      "'Added flight to BLQ to the database'\n",
      "'Added flight to BLQ to the database'\n",
      "'Added flight to BLQ to the database'\n",
      "'Added flight to BLQ to the database'\n",
      "'Added flight to BLQ to the database'\n",
      "'Added flight to BLQ to the database'\n",
      "'Added flight to BLQ to the database'\n",
      "'Added flight to BLQ to the database'\n",
      "'Added flight to BLQ to the database'\n",
      "'Added flight to BLQ to the database'\n",
      "'Added flight to BLQ to the database'\n",
      "'Added flight to BLQ to the database'\n",
      "'Added flight to BLQ to the database'\n",
      "'Added flight to BLQ to the database'\n",
      "'Added flight to BLQ to the database'\n",
      "'Added flight to BLQ to the database'\n",
      "'Added flight to BLQ to the database'\n",
      "'Added flight to BLQ to the database'\n",
      "'Added flight to BLQ to the database'\n",
      "'Added flight to BLQ to the database'\n",
      "'Added flight to BLQ to the database'\n",
      "'Added flight to BRI to the database'\n",
      "'Added flight to BRI to the database'\n",
      "'Added flight to BRI to the database'\n",
      "'Added flight to BRI to the database'\n",
      "'Added flight to BRU to the database'\n",
      "'Added flight to BRU to the database'\n",
      "'Added flight to BRU to the database'\n",
      "'Added flight to BRU to the database'\n",
      "'Added flight to BRU to the database'\n",
      "'Added flight to BRU to the database'\n",
      "'Added flight to BRU to the database'\n",
      "'Added flight to BRU to the database'\n",
      "'Added flight to BRU to the database'\n",
      "'Added flight to BRU to the database'\n",
      "'Added flight to BRU to the database'\n",
      "'Added flight to BRU to the database'\n",
      "'Added flight to BRU to the database'\n",
      "'Added flight to BRU to the database'\n",
      "'Added flight to BRU to the database'\n",
      "'Added flight to BRU to the database'\n",
      "'Added flight to BRU to the database'\n",
      "'Added flight to BRU to the database'\n",
      "'Added flight to BRU to the database'\n",
      "'Added flight to BRU to the database'\n",
      "'Added flight to BRU to the database'\n",
      "'Added flight to BRU to the database'\n",
      "'Added flight to BRU to the database'\n",
      "'Added flight to BRU to the database'\n",
      "'Added flight to BRU to the database'\n",
      "'Added flight to BUD to the database'\n",
      "'Added flight to BUD to the database'\n",
      "'Added flight to BUD to the database'\n",
      "'Added flight to BUD to the database'\n",
      "'Added flight to BUD to the database'\n",
      "'Added flight to BUD to the database'\n",
      "'Added flight to BUD to the database'\n",
      "'Added flight to BUD to the database'\n",
      "'Added flight to BUD to the database'\n",
      "'Added flight to BUD to the database'\n",
      "'Added flight to BUD to the database'\n",
      "'Added flight to BUD to the database'\n",
      "'Added flight to BUD to the database'\n",
      "'Added flight to BUD to the database'\n",
      "'Added flight to BUD to the database'\n",
      "'Added flight to BUD to the database'\n",
      "'Added flight to BUD to the database'\n",
      "'Added flight to BUD to the database'\n",
      "'Added flight to BUD to the database'\n",
      "'Added flight to BUD to the database'\n",
      "'Added flight to BUD to the database'\n",
      "'Added flight to BUD to the database'\n",
      "'Added flight to BUD to the database'\n",
      "'Added flight to BUD to the database'\n",
      "'Added flight to BUD to the database'\n",
      "'Added flight to CFU to the database'\n",
      "'Added flight to CFU to the database'\n",
      "'Added flight to CFU to the database'\n",
      "'Added flight to CFU to the database'\n",
      "'Added flight to CTA to the database'\n",
      "'Added flight to CTA to the database'\n",
      "'Added flight to CTA to the database'\n",
      "'Added flight to CTA to the database'\n",
      "'Added flight to CTA to the database'\n",
      "'Added flight to CTA to the database'\n",
      "'Added flight to CTA to the database'\n",
      "'Added flight to CTA to the database'\n",
      "'Added flight to CTA to the database'\n",
      "'Added flight to CTA to the database'\n",
      "'Added flight to CTA to the database'\n",
      "'Added flight to CTA to the database'\n",
      "'Added flight to CTA to the database'\n",
      "'Added flight to CTA to the database'\n",
      "'Added flight to CTA to the database'\n",
      "'Added flight to CTA to the database'\n",
      "'Added flight to CTA to the database'\n",
      "'Added flight to CTA to the database'\n",
      "'Added flight to CTA to the database'\n",
      "'Added flight to CTA to the database'\n",
      "'Added flight to CTA to the database'\n",
      "'Added flight to CTA to the database'\n",
      "'Added flight to CTA to the database'\n",
      "'Added flight to CTA to the database'\n",
      "'Added flight to DUB to the database'\n",
      "'Added flight to DUB to the database'\n",
      "'Added flight to DUB to the database'\n",
      "'Added flight to DUB to the database'\n",
      "'Added flight to DUB to the database'\n",
      "'Added flight to DUB to the database'\n",
      "'Added flight to DUB to the database'\n",
      "'Added flight to DUB to the database'\n",
      "'Added flight to DUB to the database'\n",
      "'Added flight to DUB to the database'\n",
      "'Added flight to DUB to the database'\n",
      "'Added flight to DUB to the database'\n",
      "'Added flight to DUB to the database'\n",
      "'Added flight to DUB to the database'\n",
      "'Added flight to DUB to the database'\n",
      "'Added flight to DUB to the database'\n",
      "'Added flight to DUB to the database'\n",
      "'Added flight to DUB to the database'\n",
      "'Added flight to DUB to the database'\n",
      "'Added flight to DUB to the database'\n",
      "'Added flight to DUB to the database'\n",
      "'Added flight to DUB to the database'\n",
      "'Added flight to DUB to the database'\n",
      "'Added flight to DUB to the database'\n",
      "'Added flight to DUB to the database'\n",
      "'Added flight to EDI to the database'\n",
      "'Added flight to EDI to the database'\n",
      "'Added flight to EDI to the database'\n",
      "'Added flight to EDI to the database'\n",
      "'Added flight to EDI to the database'\n",
      "'Added flight to EDI to the database'\n",
      "'Added flight to EDI to the database'\n",
      "'Added flight to EDI to the database'\n",
      "'Added flight to EDI to the database'\n",
      "'Added flight to EDI to the database'\n",
      "'Added flight to EDI to the database'\n",
      "'Added flight to EDI to the database'\n",
      "'Added flight to EDI to the database'\n",
      "'Added flight to EDI to the database'\n",
      "'Added flight to EDI to the database'\n",
      "'Added flight to EDI to the database'\n",
      "'Added flight to EDI to the database'\n",
      "'Added flight to EDI to the database'\n",
      "'Added flight to EDI to the database'\n",
      "'Added flight to EDI to the database'\n",
      "'Added flight to EDI to the database'\n",
      "'Added flight to EDI to the database'\n",
      "'Added flight to EDI to the database'\n",
      "'Added flight to EDI to the database'\n",
      "'Added flight to EDI to the database'\n",
      "'Added flight to EMA to the database'\n",
      "'Added flight to EMA to the database'\n",
      "'Added flight to EMA to the database'\n",
      "'Added flight to EMA to the database'\n",
      "'Added flight to EMA to the database'\n",
      "'Added flight to EMA to the database'\n",
      "'Added flight to EMA to the database'\n",
      "'Added flight to EMA to the database'\n",
      "'Added flight to EMA to the database'\n",
      "'Added flight to EMA to the database'\n",
      "'Added flight to EMA to the database'\n",
      "'Added flight to EMA to the database'\n",
      "'Added flight to EMA to the database'\n",
      "'Added flight to EMA to the database'\n",
      "'Added flight to EMA to the database'\n",
      "'Added flight to EMA to the database'\n",
      "'Added flight to EMA to the database'\n",
      "'Added flight to EMA to the database'\n",
      "'Added flight to LPA to the database'\n",
      "'Added flight to LPA to the database'\n",
      "'Added flight to LPA to the database'\n",
      "'Added flight to LPA to the database'\n",
      "'Added flight to LUX to the database'\n",
      "'Added flight to LUX to the database'\n",
      "'Added flight to LUX to the database'\n",
      "'Added flight to LUX to the database'\n",
      "'Added flight to LUX to the database'\n",
      "'Added flight to LUX to the database'\n",
      "'Added flight to LUX to the database'\n",
      "'Added flight to LUX to the database'\n",
      "'Added flight to LUX to the database'\n",
      "'Added flight to LUX to the database'\n",
      "'Added flight to LUX to the database'\n",
      "'Added flight to LUX to the database'\n",
      "'Added flight to LUX to the database'\n",
      "'Added flight to LUX to the database'\n",
      "'Added flight to LUX to the database'\n",
      "'Added flight to LUX to the database'\n",
      "'Added flight to LUX to the database'\n",
      "'Added flight to LUX to the database'\n",
      "'Added flight to LUX to the database'\n",
      "'Added flight to LUX to the database'\n",
      "'Added flight to LUX to the database'\n",
      "'Added flight to MAD to the database'\n",
      "'Added flight to MAD to the database'\n",
      "'Added flight to MAD to the database'\n",
      "'Added flight to MAD to the database'\n",
      "'Added flight to MAD to the database'\n",
      "'Added flight to MAD to the database'\n",
      "'Added flight to MAD to the database'\n",
      "'Added flight to MAD to the database'\n",
      "'Added flight to MAD to the database'\n",
      "'Added flight to MAD to the database'\n",
      "'Added flight to MAD to the database'\n",
      "'Added flight to MAD to the database'\n",
      "'Added flight to MAD to the database'\n",
      "'Added flight to MAD to the database'\n",
      "'Added flight to MAD to the database'\n",
      "'Added flight to MAD to the database'\n",
      "'Added flight to MAD to the database'\n",
      "'Added flight to MAD to the database'\n",
      "'Added flight to MAD to the database'\n",
      "'Added flight to MAD to the database'\n",
      "'Added flight to MAD to the database'\n",
      "'Added flight to MAD to the database'\n",
      "'Added flight to MAD to the database'\n",
      "'Added flight to MAD to the database'\n",
      "'Added flight to MAD to the database'\n",
      "'Added flight to MAN to the database'\n",
      "'Added flight to MAN to the database'\n",
      "'Added flight to MAN to the database'\n",
      "'Added flight to MAN to the database'\n",
      "'Added flight to MAN to the database'\n",
      "'Added flight to MAN to the database'\n",
      "'Added flight to MAN to the database'\n",
      "'Added flight to MAN to the database'\n",
      "'Added flight to MAN to the database'\n",
      "'Added flight to MAN to the database'\n",
      "'Added flight to MAN to the database'\n",
      "'Added flight to MAN to the database'\n",
      "'Added flight to MAN to the database'\n",
      "'Added flight to MAN to the database'\n",
      "'Added flight to MAN to the database'\n",
      "'Added flight to MAN to the database'\n",
      "'Added flight to MAN to the database'\n",
      "'Added flight to MAN to the database'\n",
      "'Added flight to MAN to the database'\n",
      "'Added flight to MAN to the database'\n",
      "'Added flight to MAN to the database'\n",
      "'Added flight to MAN to the database'\n",
      "'Added flight to MAN to the database'\n",
      "'Added flight to MAN to the database'\n",
      "'Added flight to MAN to the database'\n",
      "'Added flight to MRS to the database'\n",
      "'Added flight to MRS to the database'\n",
      "'Added flight to MRS to the database'\n",
      "'Added flight to MRS to the database'\n",
      "'Added flight to MRS to the database'\n",
      "'Added flight to OPO to the database'\n",
      "'Added flight to OPO to the database'\n",
      "'Added flight to OPO to the database'\n",
      "'Added flight to OPO to the database'\n",
      "'Added flight to OPO to the database'\n",
      "'Added flight to OPO to the database'\n",
      "'Added flight to OPO to the database'\n",
      "'Added flight to OPO to the database'\n",
      "'Added flight to OPO to the database'\n",
      "'Added flight to OPO to the database'\n",
      "'Added flight to OPO to the database'\n",
      "'Added flight to OPO to the database'\n",
      "'Added flight to OPO to the database'\n",
      "'Added flight to OPO to the database'\n",
      "'Added flight to OPO to the database'\n",
      "'Added flight to OPO to the database'\n",
      "'Added flight to OPO to the database'\n",
      "'Added flight to OPO to the database'\n",
      "'Added flight to OPO to the database'\n",
      "'Added flight to OPO to the database'\n",
      "'Added flight to OPO to the database'\n",
      "'Added flight to OPO to the database'\n",
      "'Added flight to OPO to the database'\n",
      "'Added flight to OPO to the database'\n",
      "'Added flight to OPO to the database'\n",
      "'Added flight to OTP to the database'\n",
      "'Added flight to OTP to the database'\n",
      "'Added flight to OTP to the database'\n",
      "'Added flight to OTP to the database'\n",
      "'Added flight to OTP to the database'\n",
      "'Added flight to OTP to the database'\n",
      "'Added flight to OTP to the database'\n",
      "'Added flight to OTP to the database'\n",
      "'Added flight to OTP to the database'\n",
      "'Added flight to OTP to the database'\n",
      "'Added flight to OTP to the database'\n",
      "'Added flight to OTP to the database'\n",
      "'Added flight to OTP to the database'\n",
      "'Added flight to OTP to the database'\n",
      "'Added flight to OTP to the database'\n",
      "'Added flight to OTP to the database'\n",
      "'Added flight to OTP to the database'\n",
      "'Added flight to OTP to the database'\n",
      "'Added flight to OTP to the database'\n",
      "'Added flight to OTP to the database'\n",
      "'Added flight to OTP to the database'\n",
      "'Added flight to OTP to the database'\n",
      "'Added flight to OTP to the database'\n",
      "'Added flight to OTP to the database'\n",
      "'Added flight to OTP to the database'\n",
      "'Added flight to PMI to the database'\n",
      "'Added flight to PMI to the database'\n",
      "'Added flight to PMI to the database'\n",
      "'Added flight to PMI to the database'\n",
      "'Added flight to PMI to the database'\n",
      "'Added flight to PMI to the database'\n",
      "'Added flight to PMI to the database'\n",
      "'Added flight to PMI to the database'\n",
      "'Added flight to PMI to the database'\n",
      "'Added flight to PMI to the database'\n",
      "'Added flight to PMI to the database'\n",
      "'Added flight to PMI to the database'\n",
      "'Added flight to PMI to the database'\n",
      "'Added flight to PMI to the database'\n",
      "'Added flight to PMI to the database'\n",
      "'Added flight to PMI to the database'\n",
      "'Added flight to PMI to the database'\n",
      "'Added flight to PMI to the database'\n",
      "'Added flight to PMI to the database'\n",
      "'Added flight to PMI to the database'\n",
      "'Added flight to PMI to the database'\n",
      "'Added flight to PMI to the database'\n",
      "'Added flight to PMI to the database'\n",
      "'Added flight to PMI to the database'\n",
      "'Added flight to PMI to the database'\n",
      "'Added flight to PMO to the database'\n",
      "'Added flight to PMO to the database'\n",
      "'Added flight to PMO to the database'\n",
      "'Added flight to PMO to the database'\n",
      "'Added flight to PMO to the database'\n",
      "'Added flight to RAK to the database'\n",
      "'Added flight to RAK to the database'\n",
      "'Added flight to RAK to the database'\n",
      "'Added flight to RAK to the database'\n",
      "'Added flight to RAK to the database'\n",
      "'Added flight to SKG to the database'\n",
      "'Added flight to SKG to the database'\n",
      "'Added flight to SKG to the database'\n",
      "'Added flight to SKG to the database'\n",
      "'Added flight to SKG to the database'\n",
      "'Added flight to SKG to the database'\n",
      "'Added flight to SKG to the database'\n",
      "'Added flight to SKG to the database'\n",
      "'Added flight to SKG to the database'\n",
      "'Added flight to SKG to the database'\n",
      "'Added flight to SKG to the database'\n",
      "'Added flight to SKG to the database'\n",
      "'Added flight to SKG to the database'\n",
      "'Added flight to SKG to the database'\n",
      "'Added flight to SKG to the database'\n",
      "'Added flight to SKG to the database'\n",
      "'Added flight to SKG to the database'\n",
      "'Added flight to SKG to the database'\n",
      "'Added flight to SKG to the database'\n",
      "'Added flight to SKG to the database'\n",
      "'Added flight to SKG to the database'\n",
      "'Added flight to SKG to the database'\n",
      "'Added flight to SKG to the database'\n",
      "'Added flight to SKG to the database'\n",
      "'Added flight to SKG to the database'\n",
      "'Added flight to SOF to the database'\n",
      "'Added flight to SOF to the database'\n",
      "'Added flight to SOF to the database'\n",
      "'Added flight to SOF to the database'\n",
      "'Added flight to SOF to the database'\n",
      "'Added flight to SOF to the database'\n",
      "'Added flight to SOF to the database'\n",
      "'Added flight to SOF to the database'\n",
      "'Added flight to SOF to the database'\n",
      "'Added flight to SOF to the database'\n",
      "'Added flight to SOF to the database'\n",
      "'Added flight to SOF to the database'\n",
      "'Added flight to SOF to the database'\n",
      "'Added flight to SOF to the database'\n",
      "'Added flight to SOF to the database'\n",
      "'Added flight to SOF to the database'\n",
      "'Added flight to SOF to the database'\n",
      "'Added flight to SOF to the database'\n",
      "'Added flight to SOF to the database'\n",
      "'Added flight to SOF to the database'\n",
      "'Added flight to SOF to the database'\n",
      "'Added flight to SOF to the database'\n",
      "'Added flight to SOF to the database'\n",
      "'Added flight to SOF to the database'\n",
      "'Added flight to SOF to the database'\n",
      "'Added flight to TGD to the database'\n",
      "'Added flight to TGD to the database'\n",
      "'Added flight to TGD to the database'\n",
      "'Added flight to TGD to the database'\n",
      "'Added flight to TGD to the database'\n",
      "'Added flight to TGD to the database'\n",
      "'Added flight to TGD to the database'\n",
      "'Added flight to TGD to the database'\n",
      "'Added flight to TGD to the database'\n",
      "'Added flight to TGD to the database'\n",
      "'Added flight to TGD to the database'\n",
      "'Added flight to TGD to the database'\n",
      "'Added flight to TGD to the database'\n",
      "'Added flight to TGD to the database'\n",
      "'Added flight to TGD to the database'\n",
      "'Added flight to TGD to the database'\n",
      "'Added flight to TGD to the database'\n",
      "'Added flight to TGD to the database'\n",
      "'Added flight to TGD to the database'\n",
      "'Added flight to TGD to the database'\n",
      "'Added flight to TGD to the database'\n",
      "'Added flight to TLL to the database'\n",
      "'Added flight to TLL to the database'\n",
      "'Added flight to TLL to the database'\n",
      "'Added flight to TLL to the database'\n",
      "'Added flight to TLL to the database'\n",
      "'Added flight to TLL to the database'\n",
      "'Added flight to TLL to the database'\n",
      "'Added flight to TLL to the database'\n",
      "'Added flight to TLL to the database'\n",
      "'Added flight to TLL to the database'\n",
      "'Added flight to TLL to the database'\n",
      "'Added flight to TLL to the database'\n",
      "'Added flight to TLL to the database'\n",
      "'Added flight to TLL to the database'\n",
      "'Added flight to TLL to the database'\n",
      "'Added flight to TLL to the database'\n",
      "'Added flight to TLL to the database'\n",
      "'Added flight to TLL to the database'\n",
      "'Added flight to TLL to the database'\n",
      "'Added flight to TLL to the database'\n",
      "'Added flight to TLL to the database'\n",
      "'Added flight to TLL to the database'\n",
      "'Added flight to TLL to the database'\n",
      "'Added flight to TLL to the database'\n",
      "'Added flight to TLL to the database'\n",
      "'Added flight to TLV to the database'\n",
      "'Added flight to TLV to the database'\n",
      "'Added flight to TLV to the database'\n",
      "'Added flight to TLV to the database'\n",
      "'Added flight to TLV to the database'\n",
      "'Added flight to TLV to the database'\n",
      "'Added flight to TLV to the database'\n",
      "'Added flight to TLV to the database'\n",
      "'Added flight to TLV to the database'\n",
      "'Added flight to TLV to the database'\n",
      "'Added flight to TLV to the database'\n",
      "'Added flight to TLV to the database'\n",
      "'Added flight to TLV to the database'\n",
      "'Added flight to TLV to the database'\n",
      "'Added flight to TLV to the database'\n",
      "'Added flight to TLV to the database'\n",
      "'Added flight to VCE to the database'\n",
      "'Added flight to VCE to the database'\n",
      "'Added flight to VCE to the database'\n",
      "'Added flight to VCE to the database'\n",
      "'Added flight to VCE to the database'\n",
      "'Added flight to VCE to the database'\n",
      "'Added flight to VCE to the database'\n",
      "'Added flight to VCE to the database'\n",
      "'Added flight to VCE to the database'\n",
      "'Added flight to VCE to the database'\n",
      "'Added flight to VCE to the database'\n",
      "'Added flight to VCE to the database'\n",
      "'Added flight to VCE to the database'\n",
      "'Added flight to VCE to the database'\n",
      "'Added flight to VCE to the database'\n",
      "'Added flight to VCE to the database'\n",
      "'Added flight to VCE to the database'\n",
      "'Added flight to VCE to the database'\n",
      "'Added flight to VCE to the database'\n",
      "'Added flight to VCE to the database'\n",
      "'Added flight to VCE to the database'\n",
      "'Added flight to VCE to the database'\n",
      "'Added flight to VCE to the database'\n",
      "'Added flight to VCE to the database'\n",
      "'Added flight to VCE to the database'\n",
      "'Added flight to VLC to the database'\n",
      "'Added flight to VLC to the database'\n",
      "'Added flight to VLC to the database'\n",
      "'Added flight to VLC to the database'\n",
      "'Added flight to VLC to the database'\n",
      "'Added flight to VLC to the database'\n",
      "'Added flight to VLC to the database'\n",
      "'Added flight to VLC to the database'\n",
      "'Added flight to VLC to the database'\n",
      "'Added flight to VLC to the database'\n",
      "'Added flight to VLC to the database'\n",
      "'Added flight to VLC to the database'\n",
      "'Added flight to VLC to the database'\n",
      "'Added flight to VLC to the database'\n",
      "'Added flight to VLC to the database'\n",
      "'Added flight to VLC to the database'\n",
      "'Added flight to VLC to the database'\n",
      "'Added flight to VLC to the database'\n",
      "'Added flight to VLC to the database'\n",
      "'Added flight to VLC to the database'\n",
      "'Added flight to VLC to the database'\n",
      "'Added flight to VLC to the database'\n",
      "'Added flight to VLC to the database'\n",
      "'Added flight to VLC to the database'\n",
      "'Added flight to VLC to the database'\n",
      "'Added flight to VNO to the database'\n",
      "'Added flight to VNO to the database'\n",
      "'Added flight to VNO to the database'\n",
      "'Added flight to VNO to the database'\n",
      "'Added flight to VNO to the database'\n",
      "'Added flight to VNO to the database'\n",
      "'Added flight to VNO to the database'\n",
      "'Added flight to VNO to the database'\n",
      "'Added flight to VNO to the database'\n",
      "'Added flight to VNO to the database'\n",
      "'Added flight to VNO to the database'\n",
      "'Added flight to VNO to the database'\n",
      "'Added flight to VNO to the database'\n",
      "'Added flight to VNO to the database'\n",
      "'Added flight to VNO to the database'\n",
      "'Added flight to VNO to the database'\n",
      "'Added flight to VNO to the database'\n",
      "'Added flight to VNO to the database'\n",
      "'Added flight to VNO to the database'\n",
      "'Added flight to VNO to the database'\n",
      "'Added flight to VNO to the database'\n",
      "'Added flight to VNO to the database'\n",
      "'Added flight to VNO to the database'\n",
      "'Added flight to VNO to the database'\n"
     ]
    }
   ],
   "source": [
    "#TODO Pase the flights to the database schema and save them in firebase \n",
    "for airport_code, flights in flights_data.items():\n",
    "    # Reference to the airport document in the 'allFlights' collection\n",
    "    airport_ref = db.collection('allFlights').document(airport_code)\n",
    "\n",
    "    # Check if the airport document exists\n",
    "    if not airport_ref.get().exists:\n",
    "        airport_ref.set({})  # Create a document with the airport code if it does not exist\n",
    "\n",
    "    # Reference to the 'flightsInfo' subcollection\n",
    "    flights_info_ref = airport_ref.collection('flightsInfo')\n",
    "\n",
    "    # Add each flight to the 'flightsInfo' subcollection\n",
    "    for flight in flights:\n",
    "        flights_info_ref.add(flight)\n",
    "        pprint.pprint(f\"Added flight to {airport_code} to the database\")\n",
    "\n"
   ]
  },
  {
   "cell_type": "code",
   "execution_count": null,
   "metadata": {},
   "outputs": [],
   "source": []
  }
 ],
 "metadata": {
  "kernelspec": {
   "display_name": "Python 3",
   "language": "python",
   "name": "python3"
  },
  "language_info": {
   "codemirror_mode": {
    "name": "ipython",
    "version": 3
   },
   "file_extension": ".py",
   "mimetype": "text/x-python",
   "name": "python",
   "nbconvert_exporter": "python",
   "pygments_lexer": "ipython3",
   "version": "2.7.0"
  }
 },
 "nbformat": 4,
 "nbformat_minor": 2
}
